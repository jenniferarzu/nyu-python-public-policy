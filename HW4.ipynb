{
  "nbformat": 4,
  "nbformat_minor": 0,
  "metadata": {
    "colab": {
      "name": "HW4.ipynb",
      "provenance": [],
      "include_colab_link": true
    },
    "kernelspec": {
      "name": "python3",
      "display_name": "Python 3"
    }
  },
  "cells": [
    {
      "cell_type": "markdown",
      "metadata": {
        "id": "view-in-github",
        "colab_type": "text"
      },
      "source": [
        "<a href=\"https://colab.research.google.com/github/jenniferarzu/nyu-python-public-policy/blob/master/HW4.ipynb\" target=\"_parent\"><img src=\"https://colab.research.google.com/assets/colab-badge.svg\" alt=\"Open In Colab\"/></a>"
      ]
    },
    {
      "cell_type": "markdown",
      "metadata": {
        "id": "zgOobHRSg3hg",
        "colab_type": "text"
      },
      "source": [
        "**Jennifer Arzu**"
      ]
    },
    {
      "cell_type": "markdown",
      "metadata": {
        "id": "tuJP_RlNg9BC",
        "colab_type": "text"
      },
      "source": [
        "# **HOMEWORK 4 Coding: Analyzing and visualizing specific categories of 311 complaints**"
      ]
    },
    {
      "cell_type": "code",
      "metadata": {
        "id": "44kSP4bShvFu",
        "colab_type": "code",
        "colab": {}
      },
      "source": [
        "import pandas as pd\n",
        "import matplotlib.pyplot as plt \n",
        "import numpy as np\n"
      ],
      "execution_count": 0,
      "outputs": []
    },
    {
      "cell_type": "code",
      "metadata": {
        "id": "bY_tU5m5hwSx",
        "colab_type": "code",
        "outputId": "b30ba48e-829e-4a30-c206-28d9734572fb",
        "colab": {
          "base_uri": "https://localhost:8080/",
          "height": 122
        }
      },
      "source": [
        "from google.colab import drive\n",
        "drive.mount('/content/drive')"
      ],
      "execution_count": 2,
      "outputs": [
        {
          "output_type": "stream",
          "text": [
            "Go to this URL in a browser: https://accounts.google.com/o/oauth2/auth?client_id=947318989803-6bn6qk8qdgf4n4g3pfee6491hc0brc4i.apps.googleusercontent.com&redirect_uri=urn%3aietf%3awg%3aoauth%3a2.0%3aoob&response_type=code&scope=email%20https%3a%2f%2fwww.googleapis.com%2fauth%2fdocs.test%20https%3a%2f%2fwww.googleapis.com%2fauth%2fdrive%20https%3a%2f%2fwww.googleapis.com%2fauth%2fdrive.photos.readonly%20https%3a%2f%2fwww.googleapis.com%2fauth%2fpeopleapi.readonly\n",
            "\n",
            "Enter your authorization code:\n",
            "··········\n",
            "Mounted at /content/drive\n"
          ],
          "name": "stdout"
        }
      ]
    },
    {
      "cell_type": "code",
      "metadata": {
        "id": "AXYhzyPeh6cj",
        "colab_type": "code",
        "colab": {}
      },
      "source": [
        "pd.set_option('display.max_columns', None)\n",
        "pd.set_option('display.max_rows', None)"
      ],
      "execution_count": 0,
      "outputs": []
    },
    {
      "cell_type": "code",
      "metadata": {
        "id": "xsUQkBIIiRBO",
        "colab_type": "code",
        "outputId": "f9538a3c-101f-40dc-87bf-65dc70098b28",
        "colab": {
          "base_uri": "https://localhost:8080/",
          "height": 71
        }
      },
      "source": [
        "df = pd.read_csv('/content/drive/My Drive/Data for Python/cleaned_311_data.csv', header='infer')"
      ],
      "execution_count": 4,
      "outputs": [
        {
          "output_type": "stream",
          "text": [
            "/usr/local/lib/python3.6/dist-packages/IPython/core/interactiveshell.py:2718: DtypeWarning: Columns (9,18,21,32,35) have mixed types. Specify dtype option on import or set low_memory=False.\n",
            "  interactivity=interactivity, compiler=compiler, result=result)\n"
          ],
          "name": "stderr"
        }
      ]
    },
    {
      "cell_type": "markdown",
      "metadata": {
        "id": "9ljktLu6v7Sv",
        "colab_type": "text"
      },
      "source": [
        "\n",
        "**Problem Statement:**\n",
        "There seems to be a general trend that the higher the community district population, the higher the number of 311 requests. However, there is a lot of variance in the data. What if we only look at complaint types that are likely influenced by population?\n",
        "\n",
        "\"Noise - Residential\" and \"HEAT/HOT WATER\" were the most frequest requests in the entire 311 dataset. Let's try isolating the count of requests in each of those two categories versus all the other complaints."
      ]
    },
    {
      "cell_type": "markdown",
      "metadata": {
        "id": "Sqt9g1_1hDQr",
        "colab_type": "text"
      },
      "source": [
        "**Step 1. First you will need to prep your data to get the count of complaints in each of the three categories. You can update the code from lecture that gets the total count of 311 requests per CD to instead get the count of 311 requests per CD that meet the criteria for the 3 categories. You should create three seprate dataframes, one per category:**\n",
        "\n",
        "- complaint_type = 'Noise - Residential'\n",
        "- complaint_type = 'HEAT/HOT WATER'\n",
        "- Everything else: (complaint_type != 'Noise - Residential' and complaint_type != 'HEAT/HOT WATER')"
      ]
    },
    {
      "cell_type": "code",
      "metadata": {
        "id": "MaM1n_3Dr0BL",
        "colab_type": "code",
        "colab": {}
      },
      "source": [
        "#creating 3 separate dataframes, one per each category\n",
        "resnoise = df[df.complaint_type=='Noise - Residential']\n",
        "heathotwater= df[df.complaint_type=='HEAT/HOT WATER']\n",
        "other=df[(df.complaint_type != 'Noise - Residential') & (df.complaint_type != 'HEAT/HOT WATER')]"
      ],
      "execution_count": 0,
      "outputs": []
    },
    {
      "cell_type": "code",
      "metadata": {
        "id": "xIakf_pjgy2p",
        "colab_type": "code",
        "outputId": "787813fe-5cd5-492e-bdf7-bcd72d9ca61d",
        "colab": {
          "base_uri": "https://localhost:8080/",
          "height": 85
        }
      },
      "source": [
        "#grouping by community board to get count of requests per community district\n",
        "resnoise_count = resnoise.groupby('community_board').size().reset_index(name='count_of_311_requests')\n",
        "print(len(resnoise_count))\n",
        "\n",
        "heathotwater_count = heathotwater.groupby('community_board').size().reset_index(name='count_of_311_requests')\n",
        "print(len(heathotwater_count))\n",
        "\n",
        "other_count = other.groupby('community_board').size().reset_index(name='count_of_311_requests')\n",
        "print(len(other_count))\n",
        "\n",
        "#creating count all to check that the dataframes all add up to correct total\n",
        "all_count = df.groupby('community_board').size().reset_index(name='count_of_311_requests')\n",
        "print(len(all_count))"
      ],
      "execution_count": 6,
      "outputs": [
        {
          "output_type": "stream",
          "text": [
            "69\n",
            "66\n",
            "77\n",
            "77\n"
          ],
          "name": "stdout"
        }
      ]
    },
    {
      "cell_type": "markdown",
      "metadata": {
        "id": "UmYFEHkUzxSD",
        "colab_type": "text"
      },
      "source": [
        "*\"Note the lengths of these dataframes. We can see that we're going to run into problems, because they're each a different length (i.e. have a different number of rows) and they're all greater than 59. There are only 59 community districts in the city, so these dataframes are including some extra invalid community district rows. The invalid rows include community board values containing \"Unspecified\" or district numbers that are higher than what exist in real life. Ex: '84 QUEENS', 'Unspecified BRONX'* -Note from Professor Kates\n",
        "\n",
        "*Here's a list of all the valid borocd values that exist in the city:\"*"
      ]
    },
    {
      "cell_type": "code",
      "metadata": {
        "id": "5zABQsk30Bw-",
        "colab_type": "code",
        "colab": {}
      },
      "source": [
        "valid_borocds = ['101','102','103','104','105','106','107','108','109','110','111','112','201','202','203','204','205','206','207','208','209','210','211','212','301','302','303','304','305','306','307','308','309','310','311','312','313','314','315','316','317','318','401','402','403','404','405','406','407','408','409','410','411','412','413','414','501','502','503']"
      ],
      "execution_count": 0,
      "outputs": []
    },
    {
      "cell_type": "code",
      "metadata": {
        "id": "pYscieCX0Yr4",
        "colab_type": "code",
        "colab": {}
      },
      "source": [
        "# this function will recode the community_board value into borocd in a new column\n",
        "\n",
        "def recode_borocd_counts(row):\n",
        "  if row.community_board[0] != 'U':\n",
        "    if 'MANHATTAN' in row.community_board:\n",
        "      return '1' + row.community_board[0:2]\n",
        "    elif 'BRONX' in row.community_board:\n",
        "      return '2' + row.community_board[0:2]\n",
        "    elif 'BROOKLYN' in row.community_board:\n",
        "      return '3' + row.community_board[0:2]\n",
        "    elif 'QUEENS' in row.community_board:\n",
        "      return '4' + row.community_board[0:2]\n",
        "    elif 'STATEN ISLAND' in row.community_board:\n",
        "      return '5' + row.community_board[0:2]\n",
        "  else:\n",
        "    return 'Invalid borocd'"
      ],
      "execution_count": 0,
      "outputs": []
    },
    {
      "cell_type": "code",
      "metadata": {
        "id": "fb6zMoUL0kf6",
        "colab_type": "code",
        "colab": {}
      },
      "source": [
        "#can apply the function created into each of the dataframes created\n",
        "resnoise_count['borocd']=resnoise_count.apply(recode_borocd_counts, axis=1)\n",
        "heathotwater_count['borocd']=heathotwater_count.apply(recode_borocd_counts, axis=1)\n",
        "other_count['borocd']=other_count.apply(recode_borocd_counts, axis=1)\n",
        "all_count['borocd'] = all_count.apply(recode_borocd_counts, axis=1)"
      ],
      "execution_count": 0,
      "outputs": []
    },
    {
      "cell_type": "code",
      "metadata": {
        "id": "r6laP2-Z1hRL",
        "colab_type": "code",
        "outputId": "35fbd974-5b12-439f-cd22-71c524e2b196",
        "colab": {
          "base_uri": "https://localhost:8080/",
          "height": 85
        }
      },
      "source": [
        "#filtering dataframes to only keep valid borocd rows using isin() function\n",
        "resnoise_count = resnoise_count[resnoise_count.borocd.isin(valid_borocds)]\n",
        "print(len(resnoise_count))\n",
        "\n",
        "heathotwater_count = heathotwater_count[heathotwater_count.borocd.isin(valid_borocds)]\n",
        "print(len(heathotwater_count))\n",
        "\n",
        "other_count = other_count[other_count.borocd.isin(valid_borocds)]\n",
        "print(len(other_count))\n",
        "\n",
        "all_count = all_count[all_count.borocd.isin(valid_borocds)]\n",
        "print(len(all_count))\n"
      ],
      "execution_count": 10,
      "outputs": [
        {
          "output_type": "stream",
          "text": [
            "59\n",
            "59\n",
            "59\n",
            "59\n"
          ],
          "name": "stdout"
        }
      ]
    },
    {
      "cell_type": "code",
      "metadata": {
        "id": "Vn_Z1ATN2ZzQ",
        "colab_type": "code",
        "outputId": "647a568e-be0d-4027-f10d-cd7c725f1e96",
        "colab": {
          "base_uri": "https://localhost:8080/",
          "height": 425
        }
      },
      "source": [
        "#checking to make sure that the 311 requests add up as expected, now that have cleaned dataframes of equal length\n",
        "print(resnoise_count.head())\n",
        "print(heathotwater_count.head())\n",
        "print(other_count.head())\n",
        "print(all_count.head())"
      ],
      "execution_count": 11,
      "outputs": [
        {
          "output_type": "stream",
          "text": [
            "    community_board  count_of_311_requests borocd\n",
            "1          01 BRONX                   3691    201\n",
            "2       01 BROOKLYN                   5844    301\n",
            "3      01 MANHATTAN                    722    101\n",
            "4         01 QUEENS                   4589    401\n",
            "5  01 STATEN ISLAND                   5052    501\n",
            "    community_board  count_of_311_requests borocd\n",
            "0          01 BRONX                   3346    201\n",
            "1       01 BROOKLYN                   2868    301\n",
            "2      01 MANHATTAN                    276    101\n",
            "3         01 QUEENS                   2466    401\n",
            "4  01 STATEN ISLAND                   1644    501\n",
            "    community_board  count_of_311_requests borocd\n",
            "1          01 BRONX                  20316    201\n",
            "2       01 BROOKLYN                  59389    301\n",
            "3      01 MANHATTAN                  20261    101\n",
            "4         01 QUEENS                  53370    401\n",
            "5  01 STATEN ISLAND                  58449    501\n",
            "    community_board  count_of_311_requests borocd\n",
            "1          01 BRONX                  27353    201\n",
            "2       01 BROOKLYN                  68101    301\n",
            "3      01 MANHATTAN                  21259    101\n",
            "4         01 QUEENS                  60425    401\n",
            "5  01 STATEN ISLAND                  65145    501\n"
          ],
          "name": "stdout"
        }
      ]
    },
    {
      "cell_type": "code",
      "metadata": {
        "id": "48K-dNK_3EHq",
        "colab_type": "code",
        "outputId": "5b96aa92-bcac-4195-d881-b026ab7432c5",
        "colab": {
          "base_uri": "https://localhost:8080/",
          "height": 34
        }
      },
      "source": [
        "27353 == 20316 + 3346 + 3691"
      ],
      "execution_count": 0,
      "outputs": [
        {
          "output_type": "execute_result",
          "data": {
            "text/plain": [
              "True"
            ]
          },
          "metadata": {
            "tags": []
          },
          "execution_count": 41
        }
      ]
    },
    {
      "cell_type": "markdown",
      "metadata": {
        "id": "afhcUMEss1eS",
        "colab_type": "text"
      },
      "source": [
        "**Step 2. Create a stacked bar chart of 311 requests per community district. Each community district bar should be comprised of three stacked bars, one for each category listed below. The total height of each community district bar (the sum of the three stacked bars) should reflect the total count of 311 complaints per community district.**\n",
        "\n",
        "- number of 'Noise - Residential' complaints per CD\n",
        "- number of 'HEAT/HOT WATER' complaints per CD\n",
        "- number of other complaints per CD"
      ]
    },
    {
      "cell_type": "code",
      "metadata": {
        "id": "VxFXstHR3YZk",
        "colab_type": "code",
        "outputId": "fd90e95c-9b49-4b55-a2a5-44be3e07bbf1",
        "colab": {
          "base_uri": "https://localhost:8080/",
          "height": 68
        }
      },
      "source": [
        "#list of bar positions on x axis\n",
        "position_on_x = np.arange(len(all_count))\n",
        "print(position_on_x)\n",
        "\n",
        "resnoise_count_new= np.array(resnoise_count.sort_values(by='borocd', ascending=False).count_of_311_requests)\n",
        "heathotwater_count_new= np.array(heathotwater_count.sort_values(by='borocd', ascending=False).count_of_311_requests)\n",
        "other_count_new= np.array(other_count.sort_values(by='borocd', ascending=False).count_of_311_requests)\n"
      ],
      "execution_count": 14,
      "outputs": [
        {
          "output_type": "stream",
          "text": [
            "[ 0  1  2  3  4  5  6  7  8  9 10 11 12 13 14 15 16 17 18 19 20 21 22 23\n",
            " 24 25 26 27 28 29 30 31 32 33 34 35 36 37 38 39 40 41 42 43 44 45 46 47\n",
            " 48 49 50 51 52 53 54 55 56 57 58]\n"
          ],
          "name": "stdout"
        }
      ]
    },
    {
      "cell_type": "code",
      "metadata": {
        "id": "i95zZEFrAV4K",
        "colab_type": "code",
        "outputId": "6aedd07f-431a-46f8-c06e-cc300df72b3d",
        "colab": {
          "base_uri": "https://localhost:8080/",
          "height": 522
        }
      },
      "source": [
        "plt.figure(figsize=(15, 8))\n",
        "\n",
        "# naming the plots as objects in order to access their color attributes in the legend\n",
        "\n",
        "#plot1\n",
        "plot1 = plt.bar(\n",
        "  position_on_x,\n",
        "  other_count_new,\n",
        "  align='center',\n",
        "  color='#a3122d',\n",
        "  label='Other Complaints Count'\n",
        ")\n",
        "\n",
        "#plot2 will go on top of plot1\n",
        "plot2 = plt.bar(\n",
        "  position_on_x,\n",
        "  resnoise_count_new,\n",
        "  bottom=other_count_new,\n",
        "  align='center',\n",
        "  color='#08c918',\n",
        "  label='Residential Noise Complaints Count'\n",
        ")\n",
        "\n",
        "#plot3 will go on top on plot1 and plot2\n",
        "plot3 = plt.bar(\n",
        "  position_on_x,\n",
        "  heathotwater_count_new,\n",
        "  bottom=other_count_new + resnoise_count_new,\n",
        "  align='center',\n",
        "  color='#250982',\n",
        "  label='Heat/Hot Water Complaints Count'\n",
        ")\n",
        "\n",
        "plt.xticks(position_on_x, all_count.sort_values(by='borocd', ascending=False).borocd, rotation=90)\n",
        "\n",
        "plt.title('Count of 311 Requests per Community District')\n",
        "plt.xlabel('Community District')\n",
        "plt.ylabel('Number of Requests')\n",
        "plt.legend() # defaults to putting legend in top right\n",
        "\n",
        "plt.show()\n"
      ],
      "execution_count": 15,
      "outputs": [
        {
          "output_type": "display_data",
          "data": {
            "image/png": "[encoded data removed]",
            "text/plain": [
              "<Figure size 1080x576 with 1 Axes>"
            ]
          },
          "metadata": {
            "tags": []
          }
        }
      ]
    },
    {
      "cell_type": "code",
      "metadata": {
        "id": "IBMdlFaaFMxy",
        "colab_type": "code",
        "outputId": "224d147d-b49d-411c-c1a7-d6011a5219e9",
        "colab": {
          "base_uri": "https://localhost:8080/",
          "height": 204
        }
      },
      "source": [
        "#checking my graphed results\n",
        "allc=all_count.sort_values(by='count_of_311_requests', ascending=False)\n",
        "allc.head()"
      ],
      "execution_count": 18,
      "outputs": [
        {
          "output_type": "execute_result",
          "data": {
            "text/html": [
              "<div>\n",
              "<style scoped>\n",
              "    .dataframe tbody tr th:only-of-type {\n",
              "        vertical-align: middle;\n",
              "    }\n",
              "\n",
              "    .dataframe tbody tr th {\n",
              "        vertical-align: top;\n",
              "    }\n",
              "\n",
              "    .dataframe thead th {\n",
              "        text-align: right;\n",
              "    }\n",
              "</style>\n",
              "<table border=\"1\" class=\"dataframe\">\n",
              "  <thead>\n",
              "    <tr style=\"text-align: right;\">\n",
              "      <th></th>\n",
              "      <th>community_board</th>\n",
              "      <th>count_of_311_requests</th>\n",
              "      <th>borocd</th>\n",
              "    </tr>\n",
              "  </thead>\n",
              "  <tbody>\n",
              "    <tr>\n",
              "      <th>50</th>\n",
              "      <td>12 MANHATTAN</td>\n",
              "      <td>81402</td>\n",
              "      <td>112</td>\n",
              "    </tr>\n",
              "    <tr>\n",
              "      <th>23</th>\n",
              "      <td>05 QUEENS</td>\n",
              "      <td>71506</td>\n",
              "      <td>405</td>\n",
              "    </tr>\n",
              "    <tr>\n",
              "      <th>51</th>\n",
              "      <td>12 QUEENS</td>\n",
              "      <td>70361</td>\n",
              "      <td>412</td>\n",
              "    </tr>\n",
              "    <tr>\n",
              "      <th>2</th>\n",
              "      <td>01 BROOKLYN</td>\n",
              "      <td>68101</td>\n",
              "      <td>301</td>\n",
              "    </tr>\n",
              "    <tr>\n",
              "      <th>12</th>\n",
              "      <td>03 BROOKLYN</td>\n",
              "      <td>66360</td>\n",
              "      <td>303</td>\n",
              "    </tr>\n",
              "  </tbody>\n",
              "</table>\n",
              "</div>"
            ],
            "text/plain": [
              "   community_board  count_of_311_requests borocd\n",
              "50    12 MANHATTAN                  81402    112\n",
              "23       05 QUEENS                  71506    405\n",
              "51       12 QUEENS                  70361    412\n",
              "2      01 BROOKLYN                  68101    301\n",
              "12     03 BROOKLYN                  66360    303"
            ]
          },
          "metadata": {
            "tags": []
          },
          "execution_count": 18
        }
      ]
    },
    {
      "cell_type": "code",
      "metadata": {
        "id": "7MKji6YlM9f-",
        "colab_type": "code",
        "outputId": "cbb7e680-3553-4bb9-f512-c9d214bf490f",
        "colab": {
          "base_uri": "https://localhost:8080/",
          "height": 204
        }
      },
      "source": [
        "#checking my graphed results for residential noise\n",
        "res_noise=resnoise_count.sort_values(by='count_of_311_requests', ascending=False)\n",
        "res_noise.head()"
      ],
      "execution_count": 19,
      "outputs": [
        {
          "output_type": "execute_result",
          "data": {
            "text/html": [
              "<div>\n",
              "<style scoped>\n",
              "    .dataframe tbody tr th:only-of-type {\n",
              "        vertical-align: middle;\n",
              "    }\n",
              "\n",
              "    .dataframe tbody tr th {\n",
              "        vertical-align: top;\n",
              "    }\n",
              "\n",
              "    .dataframe thead th {\n",
              "        text-align: right;\n",
              "    }\n",
              "</style>\n",
              "<table border=\"1\" class=\"dataframe\">\n",
              "  <thead>\n",
              "    <tr style=\"text-align: right;\">\n",
              "      <th></th>\n",
              "      <th>community_board</th>\n",
              "      <th>count_of_311_requests</th>\n",
              "      <th>borocd</th>\n",
              "    </tr>\n",
              "  </thead>\n",
              "  <tbody>\n",
              "    <tr>\n",
              "      <th>50</th>\n",
              "      <td>12 MANHATTAN</td>\n",
              "      <td>11755</td>\n",
              "      <td>112</td>\n",
              "    </tr>\n",
              "    <tr>\n",
              "      <th>28</th>\n",
              "      <td>07 BRONX</td>\n",
              "      <td>9207</td>\n",
              "      <td>207</td>\n",
              "    </tr>\n",
              "    <tr>\n",
              "      <th>12</th>\n",
              "      <td>03 BROOKLYN</td>\n",
              "      <td>7898</td>\n",
              "      <td>303</td>\n",
              "    </tr>\n",
              "    <tr>\n",
              "      <th>42</th>\n",
              "      <td>10 MANHATTAN</td>\n",
              "      <td>7659</td>\n",
              "      <td>110</td>\n",
              "    </tr>\n",
              "    <tr>\n",
              "      <th>16</th>\n",
              "      <td>04 BRONX</td>\n",
              "      <td>7407</td>\n",
              "      <td>204</td>\n",
              "    </tr>\n",
              "  </tbody>\n",
              "</table>\n",
              "</div>"
            ],
            "text/plain": [
              "   community_board  count_of_311_requests borocd\n",
              "50    12 MANHATTAN                  11755    112\n",
              "28        07 BRONX                   9207    207\n",
              "12     03 BROOKLYN                   7898    303\n",
              "42    10 MANHATTAN                   7659    110\n",
              "16        04 BRONX                   7407    204"
            ]
          },
          "metadata": {
            "tags": []
          },
          "execution_count": 19
        }
      ]
    },
    {
      "cell_type": "code",
      "metadata": {
        "id": "uCh9Eyp1NLvb",
        "colab_type": "code",
        "colab": {
          "base_uri": "https://localhost:8080/",
          "height": 204
        },
        "outputId": "c9210619-cdae-4f9d-f012-16d0c2c78440"
      },
      "source": [
        "#checking my graphed results for heat/hot water\n",
        "heathot_water= heathotwater_count.sort_values(by='count_of_311_requests', ascending=False)\n",
        "heathot_water.head()"
      ],
      "execution_count": 20,
      "outputs": [
        {
          "output_type": "execute_result",
          "data": {
            "text/html": [
              "<div>\n",
              "<style scoped>\n",
              "    .dataframe tbody tr th:only-of-type {\n",
              "        vertical-align: middle;\n",
              "    }\n",
              "\n",
              "    .dataframe tbody tr th {\n",
              "        vertical-align: top;\n",
              "    }\n",
              "\n",
              "    .dataframe thead th {\n",
              "        text-align: right;\n",
              "    }\n",
              "</style>\n",
              "<table border=\"1\" class=\"dataframe\">\n",
              "  <thead>\n",
              "    <tr style=\"text-align: right;\">\n",
              "      <th></th>\n",
              "      <th>community_board</th>\n",
              "      <th>count_of_311_requests</th>\n",
              "      <th>borocd</th>\n",
              "    </tr>\n",
              "  </thead>\n",
              "  <tbody>\n",
              "    <tr>\n",
              "      <th>49</th>\n",
              "      <td>12 MANHATTAN</td>\n",
              "      <td>11692</td>\n",
              "      <td>112</td>\n",
              "    </tr>\n",
              "    <tr>\n",
              "      <th>27</th>\n",
              "      <td>07 BRONX</td>\n",
              "      <td>11203</td>\n",
              "      <td>207</td>\n",
              "    </tr>\n",
              "    <tr>\n",
              "      <th>15</th>\n",
              "      <td>04 BRONX</td>\n",
              "      <td>10942</td>\n",
              "      <td>204</td>\n",
              "    </tr>\n",
              "    <tr>\n",
              "      <th>19</th>\n",
              "      <td>05 BRONX</td>\n",
              "      <td>9555</td>\n",
              "      <td>205</td>\n",
              "    </tr>\n",
              "    <tr>\n",
              "      <th>57</th>\n",
              "      <td>17 BROOKLYN</td>\n",
              "      <td>7737</td>\n",
              "      <td>317</td>\n",
              "    </tr>\n",
              "  </tbody>\n",
              "</table>\n",
              "</div>"
            ],
            "text/plain": [
              "   community_board  count_of_311_requests borocd\n",
              "49    12 MANHATTAN                  11692    112\n",
              "27        07 BRONX                  11203    207\n",
              "15        04 BRONX                  10942    204\n",
              "19        05 BRONX                   9555    205\n",
              "57     17 BROOKLYN                   7737    317"
            ]
          },
          "metadata": {
            "tags": []
          },
          "execution_count": 20
        }
      ]
    },
    {
      "cell_type": "code",
      "metadata": {
        "id": "B3d5P8DkNM4C",
        "colab_type": "code",
        "outputId": "72165fe4-7c4a-49db-b431-d5257ce8f704",
        "colab": {
          "base_uri": "https://localhost:8080/",
          "height": 204
        }
      },
      "source": [
        "#checking my graphed results for other\n",
        "oth= other_count.sort_values(by='count_of_311_requests', ascending=False)\n",
        "oth.head()"
      ],
      "execution_count": 22,
      "outputs": [
        {
          "output_type": "execute_result",
          "data": {
            "text/html": [
              "<div>\n",
              "<style scoped>\n",
              "    .dataframe tbody tr th:only-of-type {\n",
              "        vertical-align: middle;\n",
              "    }\n",
              "\n",
              "    .dataframe tbody tr th {\n",
              "        vertical-align: top;\n",
              "    }\n",
              "\n",
              "    .dataframe thead th {\n",
              "        text-align: right;\n",
              "    }\n",
              "</style>\n",
              "<table border=\"1\" class=\"dataframe\">\n",
              "  <thead>\n",
              "    <tr style=\"text-align: right;\">\n",
              "      <th></th>\n",
              "      <th>community_board</th>\n",
              "      <th>count_of_311_requests</th>\n",
              "      <th>borocd</th>\n",
              "    </tr>\n",
              "  </thead>\n",
              "  <tbody>\n",
              "    <tr>\n",
              "      <th>23</th>\n",
              "      <td>05 QUEENS</td>\n",
              "      <td>64641</td>\n",
              "      <td>405</td>\n",
              "    </tr>\n",
              "    <tr>\n",
              "      <th>51</th>\n",
              "      <td>12 QUEENS</td>\n",
              "      <td>61548</td>\n",
              "      <td>412</td>\n",
              "    </tr>\n",
              "    <tr>\n",
              "      <th>2</th>\n",
              "      <td>01 BROOKLYN</td>\n",
              "      <td>59389</td>\n",
              "      <td>301</td>\n",
              "    </tr>\n",
              "    <tr>\n",
              "      <th>5</th>\n",
              "      <td>01 STATEN ISLAND</td>\n",
              "      <td>58449</td>\n",
              "      <td>501</td>\n",
              "    </tr>\n",
              "    <tr>\n",
              "      <th>31</th>\n",
              "      <td>07 QUEENS</td>\n",
              "      <td>58222</td>\n",
              "      <td>407</td>\n",
              "    </tr>\n",
              "  </tbody>\n",
              "</table>\n",
              "</div>"
            ],
            "text/plain": [
              "     community_board  count_of_311_requests borocd\n",
              "23         05 QUEENS                  64641    405\n",
              "51         12 QUEENS                  61548    412\n",
              "2        01 BROOKLYN                  59389    301\n",
              "5   01 STATEN ISLAND                  58449    501\n",
              "31         07 QUEENS                  58222    407"
            ]
          },
          "metadata": {
            "tags": []
          },
          "execution_count": 22
        }
      ]
    },
    {
      "cell_type": "markdown",
      "metadata": {
        "id": "_UAAeq543e_e",
        "colab_type": "text"
      },
      "source": [
        "**Step 3. Using the same three dataframes created in Step 1, create a scatter plot of community district population (x-axis) vs. community district 311 counts (y-axis) split out by complaint category (noise, heat/water, other). The scatter plot should show the counts of each of the three complaint categories in a different color.**"
      ]
    },
    {
      "cell_type": "code",
      "metadata": {
        "id": "ArDqR3AVc0aH",
        "colab_type": "code",
        "colab": {}
      },
      "source": [
        "#need to merge in population dataset to get population numbers\n",
        "population = pd.read_csv('https://data.cityofnewyork.us/api/views/xi7c-iiu2/rows.csv?accessType=DOWNLOAD', header='infer')"
      ],
      "execution_count": 0,
      "outputs": []
    },
    {
      "cell_type": "code",
      "metadata": {
        "id": "oJS1GpK7hAWR",
        "colab_type": "code",
        "colab": {}
      },
      "source": [
        "# Create a function recode_borocd_pop that combines and recodes the Borough and CD Number values to create a borocd unique ID\n",
        "def recode_borocd_pop(row):\n",
        "  if row.Borough == 'Manhattan':\n",
        "    return str(100 + row['CD Number'])\n",
        "  elif row.Borough == 'Bronx':\n",
        "    return str(200 + row['CD Number'])\n",
        "  elif row.Borough == 'Brooklyn':\n",
        "    return str(300 + row['CD Number'])\n",
        "  elif row.Borough == 'Queens':\n",
        "    return str(400 + row['CD Number'])\n",
        "  elif row.Borough == 'Staten Island':\n",
        "    return str(500 + row['CD Number'])\n",
        "  else:\n",
        "    return 'Invalid borocd'\n",
        "\n",
        "#applying function to population dataframe\n",
        "population['borocd'] = population.apply(recode_borocd_pop, axis=1)"
      ],
      "execution_count": 0,
      "outputs": []
    },
    {
      "cell_type": "code",
      "metadata": {
        "id": "RwJUQ5-efOnF",
        "colab_type": "code",
        "colab": {}
      },
      "source": [
        "#merging population and cleaned residential noise data frame for combined data\n",
        "rn_merged_data = pd.merge(left=resnoise_count, right=population, left_on='borocd', right_on='borocd')\n",
        "\n",
        "#merging population and cleaned heat/hot water data frame for combined data\n",
        "hhw_merged_data = pd.merge(left=heathotwater_count, right=population, left_on='borocd', right_on='borocd')\n",
        "\n",
        "#merging population and cleaned other data frame for combined data\n",
        "oth_merged_data = pd.merge(left=other_count, right=population, left_on='borocd', right_on='borocd')\n"
      ],
      "execution_count": 0,
      "outputs": []
    },
    {
      "cell_type": "code",
      "metadata": {
        "id": "hBDfMu4zbd20",
        "colab_type": "code",
        "colab": {}
      },
      "source": [
        "#creating subsets for each category   \n",
        "resnoise_cds = [\n",
        "  [rn_merged_data['2010 Population']/1000],\n",
        "  [rn_merged_data.count_of_311_requests]\n",
        "]\n",
        "\n",
        "heathotwater_cds = [\n",
        "  [hhw_merged_data['2010 Population']/1000],\n",
        "  [hhw_merged_data.count_of_311_requests]\n",
        "]\n",
        "\n",
        "other_cds = [\n",
        "  [oth_merged_data['2010 Population']/1000],\n",
        "  [oth_merged_data.count_of_311_requests]\n",
        "]\n"
      ],
      "execution_count": 0,
      "outputs": []
    },
    {
      "cell_type": "code",
      "metadata": {
        "id": "q3Vf6nbT3eX0",
        "colab_type": "code",
        "outputId": "67bb19a8-ccf0-499e-9ef9-04876b8d8e0f",
        "colab": {
          "base_uri": "https://localhost:8080/",
          "height": 404
        }
      },
      "source": [
        "# save the lists of data as one big list of lists, \"data_per_cd\"\n",
        "data_per_cd = [resnoise_cds, heathotwater_cds, other_cds]\n",
        "\n",
        "# defining the color to be used for the markers for each data subset group\n",
        "colors = [\"#08c918\", \"#250982\", \"#a3122d\"]\n",
        "\n",
        "# defining the labels to be used for the data subset group\n",
        "groups = [\"Residential Noise\", \"Heat/Hot Water\", \"Other\"]\n",
        "\n",
        "plt.figure(figsize=(15,6))\n",
        "\n",
        "# creating a for loop that adds a scatterplot to the figure for each data subset group\n",
        "for data, color, group in zip(data_per_cd, colors, groups): \n",
        "  x, y = data\n",
        "  plt.scatter(x, y, alpha=0.8, c=color, s=50, label=group)\n",
        "\n",
        "plt.title('Community District Population vs. 311 Requests')\n",
        "plt.xlabel('Population in Community District (Thousands)')\n",
        "plt.ylabel('# of 311 Requests in Community District')\n",
        "\n",
        "# adds legend at specified location\n",
        "# loc=1 top right\n",
        "# loc=2 top left\n",
        "# loc=3 bottom left\n",
        "# loc=4 bottom right\n",
        "plt.legend(loc=2)\n",
        "\n",
        "plt.show()\n"
      ],
      "execution_count": 36,
      "outputs": [
        {
          "output_type": "display_data",
          "data": {
            "image/png": "[encoded data removed]",
            "text/plain": [
              "<Figure size 1080x432 with 1 Axes>"
            ]
          },
          "metadata": {
            "tags": []
          }
        }
      ]
    },
    {
      "cell_type": "markdown",
      "metadata": {
        "id": "9J21ABeI3i4l",
        "colab_type": "text"
      },
      "source": [
        "***Does it seem like there's a positive correlation between population and noise complaints or population and heat/hot water complaints? What's a possible explanation for the relationship or lack of relationship?***\n",
        "\n",
        "*Answer: There appears to be no correlation between population and noise complaints or population and heat/hot water complaints. This lack of relationship could be attributed to other factors influencing the number of noise complaints and heat/hot water complaints such as neighborhood quality, age of residential buildings, residential versus commercial area.*"
      ]
    }
  ]
}