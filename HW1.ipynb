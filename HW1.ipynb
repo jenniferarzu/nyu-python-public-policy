{
  "nbformat": 4,
  "nbformat_minor": 0,
  "metadata": {
    "colab": {
      "name": "HW1.ipynb",
      "provenance": [],
      "include_colab_link": true
    },
    "kernelspec": {
      "name": "python3",
      "display_name": "Python 3"
    }
  },
  "cells": [
    {
      "cell_type": "markdown",
      "metadata": {
        "id": "view-in-github",
        "colab_type": "text"
      },
      "source": [
        "<a href=\"https://colab.research.google.com/github/jenniferarzu/nyu-python-public-policy/blob/master/HW1.ipynb\" target=\"_parent\"><img src=\"https://colab.research.google.com/assets/colab-badge.svg\" alt=\"Open In Colab\"/></a>"
      ]
    },
    {
      "cell_type": "markdown",
      "metadata": {
        "id": "pTXBK3svOiFO",
        "colab_type": "text"
      },
      "source": [
        "# ***Homework 1***"
      ]
    },
    {
      "cell_type": "markdown",
      "metadata": {
        "id": "w23dw2ORIRT5",
        "colab_type": "text"
      },
      "source": [
        "1) Reading in the 311 dataset and saving it as \"df\". Remember there are packages need to import in order for this to work."
      ]
    },
    {
      "cell_type": "code",
      "metadata": {
        "id": "tg_znjzgGXEt",
        "colab_type": "code",
        "outputId": "0440321e-39e8-4c0b-d9e4-81e74d53a447",
        "colab": {
          "base_uri": "https://localhost:8080/",
          "height": 34
        }
      },
      "source": [
        "import pandas as pd\n",
        "import numpy as np\n",
        "from google.colab import drive\n",
        "drive.mount('/content/drive', force_remount=True)"
      ],
      "execution_count": 7,
      "outputs": [
        {
          "output_type": "stream",
          "text": [
            "Mounted at /content/drive\n"
          ],
          "name": "stdout"
        }
      ]
    },
    {
      "cell_type": "code",
      "metadata": {
        "id": "kWPJcYCiG5N0",
        "colab_type": "code",
        "outputId": "5ebf2eec-efb1-446d-83cb-42ffbdfdc2f0",
        "colab": {
          "base_uri": "https://localhost:8080/",
          "height": 71
        }
      },
      "source": [
        "df = pd.read_csv('/content/drive/My Drive/Data for Python/311_Service_Requests_2018-19.csv', header='infer') "
      ],
      "execution_count": 8,
      "outputs": [
        {
          "output_type": "stream",
          "text": [
            "/usr/local/lib/python3.6/dist-packages/IPython/core/interactiveshell.py:2718: DtypeWarning: Columns (8,17,20,31,34) have mixed types. Specify dtype option on import or set low_memory=False.\n",
            "  interactivity=interactivity, compiler=compiler, result=result)\n"
          ],
          "name": "stderr"
        }
      ]
    },
    {
      "cell_type": "markdown",
      "metadata": {
        "id": "DPJgGJbTI_3q",
        "colab_type": "text"
      },
      "source": [
        "1) Answer these two questions about the data, showing your code that produced the result in two individual code cells:\n",
        "\n",
        "*   What is the minimum value in the \"Created Date\" column?\n",
        "*   What is the maximum value in the \"Created Date\" column?"
      ]
    },
    {
      "cell_type": "code",
      "metadata": {
        "id": "HvztyPoKjuaB",
        "colab_type": "code",
        "colab": {
          "base_uri": "https://localhost:8080/",
          "height": 51
        },
        "outputId": "520e14a2-0c74-455d-f774-fc67b2b477e6"
      },
      "source": [
        "df[['Created Date']].min() #minimum value in Created Date column"
      ],
      "execution_count": 10,
      "outputs": [
        {
          "output_type": "execute_result",
          "data": {
            "text/plain": [
              "Created Date    01/01/2019 01:00:00 PM\n",
              "dtype: object"
            ]
          },
          "metadata": {
            "tags": []
          },
          "execution_count": 10
        }
      ]
    },
    {
      "cell_type": "code",
      "metadata": {
        "id": "fXp9-LlUJIKr",
        "colab_type": "code",
        "outputId": "eee12cf5-f247-46eb-f9b7-1a03ca71dccd",
        "colab": {
          "base_uri": "https://localhost:8080/",
          "height": 318
        }
      },
      "source": [
        "df.head(2) #The actual real minimum value/lowest date value in the Created Date column is 08/01/2018 at 1:52:46 AM."
      ],
      "execution_count": 12,
      "outputs": [
        {
          "output_type": "execute_result",
          "data": {
            "text/html": [
              "<div>\n",
              "<style scoped>\n",
              "    .dataframe tbody tr th:only-of-type {\n",
              "        vertical-align: middle;\n",
              "    }\n",
              "\n",
              "    .dataframe tbody tr th {\n",
              "        vertical-align: top;\n",
              "    }\n",
              "\n",
              "    .dataframe thead th {\n",
              "        text-align: right;\n",
              "    }\n",
              "</style>\n",
              "<table border=\"1\" class=\"dataframe\">\n",
              "  <thead>\n",
              "    <tr style=\"text-align: right;\">\n",
              "      <th></th>\n",
              "      <th>Unique Key</th>\n",
              "      <th>Created Date</th>\n",
              "      <th>Closed Date</th>\n",
              "      <th>Agency</th>\n",
              "      <th>Agency Name</th>\n",
              "      <th>Complaint Type</th>\n",
              "      <th>Descriptor</th>\n",
              "      <th>Location Type</th>\n",
              "      <th>Incident Zip</th>\n",
              "      <th>Incident Address</th>\n",
              "      <th>Street Name</th>\n",
              "      <th>Cross Street 1</th>\n",
              "      <th>Cross Street 2</th>\n",
              "      <th>Intersection Street 1</th>\n",
              "      <th>Intersection Street 2</th>\n",
              "      <th>Address Type</th>\n",
              "      <th>City</th>\n",
              "      <th>Landmark</th>\n",
              "      <th>Facility Type</th>\n",
              "      <th>Status</th>\n",
              "      <th>Due Date</th>\n",
              "      <th>Resolution Description</th>\n",
              "      <th>Resolution Action Updated Date</th>\n",
              "      <th>Community Board</th>\n",
              "      <th>BBL</th>\n",
              "      <th>Borough</th>\n",
              "      <th>X Coordinate (State Plane)</th>\n",
              "      <th>Y Coordinate (State Plane)</th>\n",
              "      <th>Open Data Channel Type</th>\n",
              "      <th>Park Facility Name</th>\n",
              "      <th>Park Borough</th>\n",
              "      <th>Vehicle Type</th>\n",
              "      <th>Taxi Company Borough</th>\n",
              "      <th>Taxi Pick Up Location</th>\n",
              "      <th>Bridge Highway Name</th>\n",
              "      <th>Bridge Highway Direction</th>\n",
              "      <th>Road Ramp</th>\n",
              "      <th>Bridge Highway Segment</th>\n",
              "      <th>Latitude</th>\n",
              "      <th>Longitude</th>\n",
              "      <th>Location</th>\n",
              "    </tr>\n",
              "  </thead>\n",
              "  <tbody>\n",
              "    <tr>\n",
              "      <th>0</th>\n",
              "      <td>39888071</td>\n",
              "      <td>08/01/2018 12:00:10 AM</td>\n",
              "      <td>08/01/2018 01:52:46 AM</td>\n",
              "      <td>DHS</td>\n",
              "      <td>Operations Unit - Department of Homeless Services</td>\n",
              "      <td>Homeless Person Assistance</td>\n",
              "      <td>NaN</td>\n",
              "      <td>Other</td>\n",
              "      <td>10029</td>\n",
              "      <td>200 EAST  109 STREET</td>\n",
              "      <td>EAST  109 STREET</td>\n",
              "      <td>3 AVENUE</td>\n",
              "      <td>2 AVENUE</td>\n",
              "      <td>NaN</td>\n",
              "      <td>NaN</td>\n",
              "      <td>ADDRESS</td>\n",
              "      <td>NEW YORK</td>\n",
              "      <td>NaN</td>\n",
              "      <td>NaN</td>\n",
              "      <td>Closed</td>\n",
              "      <td>08/01/2018 01:00:10 AM</td>\n",
              "      <td>The mobile outreach response team offered serv...</td>\n",
              "      <td>08/01/2018 01:52:46 AM</td>\n",
              "      <td>11 MANHATTAN</td>\n",
              "      <td>1.016560e+09</td>\n",
              "      <td>MANHATTAN</td>\n",
              "      <td>1000049.0</td>\n",
              "      <td>228317.0</td>\n",
              "      <td>MOBILE</td>\n",
              "      <td>Unspecified</td>\n",
              "      <td>MANHATTAN</td>\n",
              "      <td>NaN</td>\n",
              "      <td>NaN</td>\n",
              "      <td>NaN</td>\n",
              "      <td>NaN</td>\n",
              "      <td>NaN</td>\n",
              "      <td>NaN</td>\n",
              "      <td>NaN</td>\n",
              "      <td>40.793339</td>\n",
              "      <td>-73.942942</td>\n",
              "      <td>(40.79333937834769, -73.9429417746998)</td>\n",
              "    </tr>\n",
              "    <tr>\n",
              "      <th>1</th>\n",
              "      <td>39889166</td>\n",
              "      <td>08/01/2018 12:00:26 AM</td>\n",
              "      <td>08/18/2018 10:46:43 AM</td>\n",
              "      <td>HPD</td>\n",
              "      <td>Department of Housing Preservation and Develop...</td>\n",
              "      <td>DOOR/WINDOW</td>\n",
              "      <td>DOOR</td>\n",
              "      <td>RESIDENTIAL BUILDING</td>\n",
              "      <td>10031</td>\n",
              "      <td>528 WEST  136 STREET</td>\n",
              "      <td>WEST  136 STREET</td>\n",
              "      <td>NaN</td>\n",
              "      <td>NaN</td>\n",
              "      <td>NaN</td>\n",
              "      <td>NaN</td>\n",
              "      <td>ADDRESS</td>\n",
              "      <td>NEW YORK</td>\n",
              "      <td>NaN</td>\n",
              "      <td>NaN</td>\n",
              "      <td>Closed</td>\n",
              "      <td>NaN</td>\n",
              "      <td>The Department of Housing Preservation and Dev...</td>\n",
              "      <td>08/18/2018 10:46:43 AM</td>\n",
              "      <td>09 MANHATTAN</td>\n",
              "      <td>1.019880e+09</td>\n",
              "      <td>MANHATTAN</td>\n",
              "      <td>997239.0</td>\n",
              "      <td>238074.0</td>\n",
              "      <td>PHONE</td>\n",
              "      <td>Unspecified</td>\n",
              "      <td>MANHATTAN</td>\n",
              "      <td>NaN</td>\n",
              "      <td>NaN</td>\n",
              "      <td>NaN</td>\n",
              "      <td>NaN</td>\n",
              "      <td>NaN</td>\n",
              "      <td>NaN</td>\n",
              "      <td>NaN</td>\n",
              "      <td>40.820124</td>\n",
              "      <td>-73.953071</td>\n",
              "      <td>(40.82012422332215, -73.9530712339799)</td>\n",
              "    </tr>\n",
              "  </tbody>\n",
              "</table>\n",
              "</div>"
            ],
            "text/plain": [
              "   Unique Key  ...                                Location\n",
              "0    39888071  ...  (40.79333937834769, -73.9429417746998)\n",
              "1    39889166  ...  (40.82012422332215, -73.9530712339799)\n",
              "\n",
              "[2 rows x 41 columns]"
            ]
          },
          "metadata": {
            "tags": []
          },
          "execution_count": 12
        }
      ]
    },
    {
      "cell_type": "code",
      "metadata": {
        "id": "9dwH84iIj9lg",
        "colab_type": "code",
        "colab": {
          "base_uri": "https://localhost:8080/",
          "height": 51
        },
        "outputId": "97659e72-638a-4259-a6dc-b95d58341909"
      },
      "source": [
        "df[['Created Date']].max()"
      ],
      "execution_count": 11,
      "outputs": [
        {
          "output_type": "execute_result",
          "data": {
            "text/plain": [
              "Created Date    12/31/2018 12:59:41 PM\n",
              "dtype: object"
            ]
          },
          "metadata": {
            "tags": []
          },
          "execution_count": 11
        }
      ]
    },
    {
      "cell_type": "code",
      "metadata": {
        "id": "olDue_IuJTSb",
        "colab_type": "code",
        "outputId": "b2c4dd4c-9ca8-494f-ec3f-62b1da172627",
        "colab": {
          "base_uri": "https://localhost:8080/",
          "height": 250
        }
      },
      "source": [
        "df.tail(2) #The actual maximum value/highest date value in the Created Date column is 08/24/2019 at 2:00:56 AM.\n"
      ],
      "execution_count": 13,
      "outputs": [
        {
          "output_type": "execute_result",
          "data": {
            "text/html": [
              "<div>\n",
              "<style scoped>\n",
              "    .dataframe tbody tr th:only-of-type {\n",
              "        vertical-align: middle;\n",
              "    }\n",
              "\n",
              "    .dataframe tbody tr th {\n",
              "        vertical-align: top;\n",
              "    }\n",
              "\n",
              "    .dataframe thead th {\n",
              "        text-align: right;\n",
              "    }\n",
              "</style>\n",
              "<table border=\"1\" class=\"dataframe\">\n",
              "  <thead>\n",
              "    <tr style=\"text-align: right;\">\n",
              "      <th></th>\n",
              "      <th>Unique Key</th>\n",
              "      <th>Created Date</th>\n",
              "      <th>Closed Date</th>\n",
              "      <th>Agency</th>\n",
              "      <th>Agency Name</th>\n",
              "      <th>Complaint Type</th>\n",
              "      <th>Descriptor</th>\n",
              "      <th>Location Type</th>\n",
              "      <th>Incident Zip</th>\n",
              "      <th>Incident Address</th>\n",
              "      <th>Street Name</th>\n",
              "      <th>Cross Street 1</th>\n",
              "      <th>Cross Street 2</th>\n",
              "      <th>Intersection Street 1</th>\n",
              "      <th>Intersection Street 2</th>\n",
              "      <th>Address Type</th>\n",
              "      <th>City</th>\n",
              "      <th>Landmark</th>\n",
              "      <th>Facility Type</th>\n",
              "      <th>Status</th>\n",
              "      <th>Due Date</th>\n",
              "      <th>Resolution Description</th>\n",
              "      <th>Resolution Action Updated Date</th>\n",
              "      <th>Community Board</th>\n",
              "      <th>BBL</th>\n",
              "      <th>Borough</th>\n",
              "      <th>X Coordinate (State Plane)</th>\n",
              "      <th>Y Coordinate (State Plane)</th>\n",
              "      <th>Open Data Channel Type</th>\n",
              "      <th>Park Facility Name</th>\n",
              "      <th>Park Borough</th>\n",
              "      <th>Vehicle Type</th>\n",
              "      <th>Taxi Company Borough</th>\n",
              "      <th>Taxi Pick Up Location</th>\n",
              "      <th>Bridge Highway Name</th>\n",
              "      <th>Bridge Highway Direction</th>\n",
              "      <th>Road Ramp</th>\n",
              "      <th>Bridge Highway Segment</th>\n",
              "      <th>Latitude</th>\n",
              "      <th>Longitude</th>\n",
              "      <th>Location</th>\n",
              "    </tr>\n",
              "  </thead>\n",
              "  <tbody>\n",
              "    <tr>\n",
              "      <th>2859198</th>\n",
              "      <td>43622055</td>\n",
              "      <td>08/24/2019 02:00:54 AM</td>\n",
              "      <td>NaN</td>\n",
              "      <td>NYPD</td>\n",
              "      <td>New York City Police Department</td>\n",
              "      <td>Noise - Street/Sidewalk</td>\n",
              "      <td>Loud Music/Party</td>\n",
              "      <td>Street/Sidewalk</td>\n",
              "      <td>NaN</td>\n",
              "      <td>NaN</td>\n",
              "      <td>NaN</td>\n",
              "      <td>NaN</td>\n",
              "      <td>NaN</td>\n",
              "      <td>NaN</td>\n",
              "      <td>NaN</td>\n",
              "      <td>NaN</td>\n",
              "      <td>NaN</td>\n",
              "      <td>NaN</td>\n",
              "      <td>NaN</td>\n",
              "      <td>In Progress</td>\n",
              "      <td>NaN</td>\n",
              "      <td>NaN</td>\n",
              "      <td>NaN</td>\n",
              "      <td>0 Unspecified</td>\n",
              "      <td>NaN</td>\n",
              "      <td>Unspecified</td>\n",
              "      <td>NaN</td>\n",
              "      <td>NaN</td>\n",
              "      <td>MOBILE</td>\n",
              "      <td>Unspecified</td>\n",
              "      <td>Unspecified</td>\n",
              "      <td>NaN</td>\n",
              "      <td>NaN</td>\n",
              "      <td>NaN</td>\n",
              "      <td>NaN</td>\n",
              "      <td>NaN</td>\n",
              "      <td>NaN</td>\n",
              "      <td>NaN</td>\n",
              "      <td>NaN</td>\n",
              "      <td>NaN</td>\n",
              "      <td>NaN</td>\n",
              "    </tr>\n",
              "    <tr>\n",
              "      <th>2859199</th>\n",
              "      <td>43623704</td>\n",
              "      <td>08/24/2019 02:00:56 AM</td>\n",
              "      <td>NaN</td>\n",
              "      <td>NYPD</td>\n",
              "      <td>New York City Police Department</td>\n",
              "      <td>Noise - Vehicle</td>\n",
              "      <td>Car/Truck Music</td>\n",
              "      <td>Street/Sidewalk</td>\n",
              "      <td>10303</td>\n",
              "      <td>2806 RICHMOND TERRACE</td>\n",
              "      <td>RICHMOND TERRACE</td>\n",
              "      <td>GIORDAN COURT</td>\n",
              "      <td>VAN PELT AVENUE</td>\n",
              "      <td>GIORDAN COURT</td>\n",
              "      <td>VAN PELT AVENUE</td>\n",
              "      <td>NaN</td>\n",
              "      <td>STATEN ISLAND</td>\n",
              "      <td>RICHMOND TERRACE</td>\n",
              "      <td>NaN</td>\n",
              "      <td>In Progress</td>\n",
              "      <td>NaN</td>\n",
              "      <td>NaN</td>\n",
              "      <td>NaN</td>\n",
              "      <td>01 STATEN ISLAND</td>\n",
              "      <td>5.011880e+09</td>\n",
              "      <td>STATEN ISLAND</td>\n",
              "      <td>941514.0</td>\n",
              "      <td>171315.0</td>\n",
              "      <td>ONLINE</td>\n",
              "      <td>Unspecified</td>\n",
              "      <td>STATEN ISLAND</td>\n",
              "      <td>NaN</td>\n",
              "      <td>NaN</td>\n",
              "      <td>NaN</td>\n",
              "      <td>NaN</td>\n",
              "      <td>NaN</td>\n",
              "      <td>NaN</td>\n",
              "      <td>NaN</td>\n",
              "      <td>40.636794</td>\n",
              "      <td>-74.153979</td>\n",
              "      <td>(40.63679359185655, -74.15397942810047)</td>\n",
              "    </tr>\n",
              "  </tbody>\n",
              "</table>\n",
              "</div>"
            ],
            "text/plain": [
              "         Unique Key  ...                                 Location\n",
              "2859198    43622055  ...                                      NaN\n",
              "2859199    43623704  ...  (40.63679359185655, -74.15397942810047)\n",
              "\n",
              "[2 rows x 41 columns]"
            ]
          },
          "metadata": {
            "tags": []
          },
          "execution_count": 13
        }
      ]
    },
    {
      "cell_type": "markdown",
      "metadata": {
        "colab_type": "text",
        "id": "UonxD1_VKcZ5"
      },
      "source": [
        "3) Create a text cell where you will briefly discuss the min and max results: does anything about the resulting min and max values surprise you? What do think causes this?\n",
        "\n",
        "Answer: \n",
        "\n",
        "The minimum value in the Created Date column according to the minimum function is 01/01/2019 at 01:00:00 PM while the maximum value according to the maximum function is 12/31/2018 12:59:41 PM. I am surprised that the minimum value is more recent than the maximum value. These results appear not to be valid because once we use the df.head() we see that the actual minimum value/oldest  is 08/01/2018 at 1:52:46 AM while the maximum value/most recent date value in the Created Date column is 08/24/2019 at 2:00:56 AM based on df.tail() \n",
        "\n",
        "Thus the minimum and maximum functions do not seen adequate with dates since I believe it probably treats the dates as integers and bases the output for the minimum and maximum from the dates in integer format and not the date format. As a result, we get the incorrect minimum and maximum values for the Created Date. "
      ]
    },
    {
      "cell_type": "markdown",
      "metadata": {
        "id": "EZYieAKtNeVf",
        "colab_type": "text"
      },
      "source": [
        "4) Question you have from doing the tutorials.\n",
        "\n",
        "I have two questions from the tutorials:\n",
        "1.   The first one involves content/terminology. One of the tutorials mentioned that one particular code would return a dataframe object while another code would return a series object. I am slightly confused on the differences. Do dataframes differ from series object just on the structure/format of output or are there other differences? \n",
        "2.   The second one is on a code I had some difficulties on running during the tutorial. Whenever I tried to index for dictionary keys I got an error message, which said \"'dict_keys' object does not support indexing'\". Is there an alternative way to index keys in Python3? I tried looking it up but was confused on language/notation. Also, is there a way of finding out what are the differences in coding between Python 2 and Python 3 or is it more trial/error?\n",
        "\n"
      ]
    },
    {
      "cell_type": "markdown",
      "metadata": {
        "id": "tNwgdDKlOTJA",
        "colab_type": "text"
      },
      "source": [
        "# **Tutorial Notes** "
      ]
    },
    {
      "cell_type": "markdown",
      "metadata": {
        "id": "p3IC_s2GOyA_",
        "colab_type": "text"
      },
      "source": [
        "***I. Python Basics: Lists, Dictionaries, & Booleans***"
      ]
    },
    {
      "cell_type": "code",
      "metadata": {
        "id": "LP1pNxQ0OxYy",
        "colab_type": "code",
        "colab": {}
      },
      "source": [
        "a=6\n",
        "b=2 ##Each input block is referred to as a cell. "
      ],
      "execution_count": 0,
      "outputs": []
    },
    {
      "cell_type": "code",
      "metadata": {
        "id": "HrgDL2INPUpN",
        "colab_type": "code",
        "outputId": "c1e22393-519e-43ca-af02-992240a30291",
        "colab": {
          "base_uri": "https://localhost:8080/",
          "height": 34
        }
      },
      "source": [
        "print (a/b) ##After declaring that \"a\" is 6 and \"b\" is 2, we should be able to divide \"a\" by \"b\" and get 3"
      ],
      "execution_count": 0,
      "outputs": [
        {
          "output_type": "stream",
          "text": [
            "3.0\n"
          ],
          "name": "stdout"
        }
      ]
    },
    {
      "cell_type": "code",
      "metadata": {
        "id": "wuvGbrxDPkgW",
        "colab_type": "code",
        "outputId": "700d905a-0566-44a5-c08b-8cf45529c7b6",
        "colab": {
          "base_uri": "https://localhost:8080/",
          "height": 34
        }
      },
      "source": [
        "'this is a string'"
      ],
      "execution_count": 0,
      "outputs": [
        {
          "output_type": "execute_result",
          "data": {
            "text/plain": [
              "'this is a string'"
            ]
          },
          "metadata": {
            "tags": []
          },
          "execution_count": 7
        }
      ]
    },
    {
      "cell_type": "code",
      "metadata": {
        "id": "SZhbt2nuQBhA",
        "colab_type": "code",
        "colab": {}
      },
      "source": [
        "first_string = 'hello from google colab' \n",
        "##So that you can reference this string later, you should give it a variable name, “first_string”. \n",
        "##Note that the variable name in the example below is entire lowercase—this is a convention in Python. \n",
        "##We use underscores because Python assumes that a space ends the variable name"
      ],
      "execution_count": 0,
      "outputs": []
    },
    {
      "cell_type": "code",
      "metadata": {
        "id": "KlJb218QQSOq",
        "colab_type": "code",
        "outputId": "65b40c28-3036-4df1-cc89-494f1b52bd92",
        "colab": {
          "base_uri": "https://localhost:8080/",
          "height": 34
        }
      },
      "source": [
        "print (first_string) \n",
        "##You'll notice that this did not generate an output cell. That's because you didn't issue an explicit instruction to do so—all you did was assign the first_string variable. In order to see that the variable was stored, you can print the name. \n",
        "##Get used to this—you'll use it often to confirm that the contents of variables match your expectations."
      ],
      "execution_count": 0,
      "outputs": [
        {
          "output_type": "stream",
          "text": [
            "hello from google colab\n"
          ],
          "name": "stdout"
        }
      ]
    },
    {
      "cell_type": "code",
      "metadata": {
        "id": "9CkNal8ZQUWB",
        "colab_type": "code",
        "outputId": "59468341-26bd-4263-c06a-606b9f864018",
        "colab": {
          "base_uri": "https://localhost:8080/",
          "height": 34
        }
      },
      "source": [
        "first_string\n",
        "##You can also run the variable name to see its raw value as output"
      ],
      "execution_count": 0,
      "outputs": [
        {
          "output_type": "execute_result",
          "data": {
            "text/plain": [
              "'hello from google colab'"
            ]
          },
          "metadata": {
            "tags": []
          },
          "execution_count": 10
        }
      ]
    },
    {
      "cell_type": "code",
      "metadata": {
        "id": "h9aRg0WJQ363",
        "colab_type": "code",
        "outputId": "d38a6eed-cd44-4fde-b329-7c0aca793e63",
        "colab": {
          "base_uri": "https://localhost:8080/",
          "height": 34
        }
      },
      "source": [
        "print (\"one bacon double cheeseburger\")\n",
        "##Finally, you can use either double quotes or single quotes to define a string"
      ],
      "execution_count": 0,
      "outputs": [
        {
          "output_type": "stream",
          "text": [
            "one bacon double cheeseburger\n"
          ],
          "name": "stdout"
        }
      ]
    },
    {
      "cell_type": "markdown",
      "metadata": {
        "id": "IeGEWQv7SLZX",
        "colab_type": "text"
      },
      "source": [
        "**Lists**"
      ]
    },
    {
      "cell_type": "code",
      "metadata": {
        "id": "aq04lnnERqpp",
        "colab_type": "code",
        "colab": {}
      },
      "source": [
        "cities = ['Tokyo','Los Angeles','New York','San Francisco']\n",
        "##A list is exactly what it sound like. Lists can contain any kind of objects, as long as \n",
        "##they're between square brackets. That's right—a list is both an object AND a container of other objects. \n",
        "##This might be confusing at first, but you'll come to learn that it's very convenient to be able to treat \n",
        "##one item in a list similarly to how you might treat the list itself.In lists: the order stays the same, \n",
        "##you can get an item by referring to its position in the list, a number called the index"
      ],
      "execution_count": 0,
      "outputs": []
    },
    {
      "cell_type": "code",
      "metadata": {
        "id": "-oE_LJpESKVE",
        "colab_type": "code",
        "outputId": "f5dea169-5279-4f4a-897f-e34552e9e127",
        "colab": {
          "base_uri": "https://localhost:8080/",
          "height": 34
        }
      },
      "source": [
        "print (cities) # see the specific list object this variable refers to\n",
        "    "
      ],
      "execution_count": 0,
      "outputs": [
        {
          "output_type": "stream",
          "text": [
            "['Tokyo', 'Los Angeles', 'New York', 'San Francisco']\n"
          ],
          "name": "stdout"
        }
      ]
    },
    {
      "cell_type": "code",
      "metadata": {
        "id": "jE-MnkpHSa-X",
        "colab_type": "code",
        "outputId": "c79843cf-3946-4523-8941-7ee5c346b8df",
        "colab": {
          "base_uri": "https://localhost:8080/",
          "height": 34
        }
      },
      "source": [
        "cities[1]\n",
        "##To get an item in the list, you'll use the position in the list, the index, of the item inside square brackets. \n",
        "##In Python, as in many languages, lists are zero-indexed, meaning the first item has an index of 0, the second \n",
        "##item has an index of 1, and so forth.\n",
        "##Since the list is zero-indexed, 'Los Angeles' has an index of 1, even though it’s the second item in the list. "
      ],
      "execution_count": 0,
      "outputs": [
        {
          "output_type": "execute_result",
          "data": {
            "text/plain": [
              "'Los Angeles'"
            ]
          },
          "metadata": {
            "tags": []
          },
          "execution_count": 14
        }
      ]
    },
    {
      "cell_type": "code",
      "metadata": {
        "id": "Ud0v8if6Sw8I",
        "colab_type": "code",
        "outputId": "ff612203-3a4f-427e-b345-9a378b3ca6ec",
        "colab": {
          "base_uri": "https://localhost:8080/",
          "height": 34
        }
      },
      "source": [
        "cities[0]\n",
        "##using an index of 0 should output 'Tokyo'"
      ],
      "execution_count": 0,
      "outputs": [
        {
          "output_type": "execute_result",
          "data": {
            "text/plain": [
              "'Tokyo'"
            ]
          },
          "metadata": {
            "tags": []
          },
          "execution_count": 15
        }
      ]
    },
    {
      "cell_type": "code",
      "metadata": {
        "id": "Bj_tPV45S70v",
        "colab_type": "code",
        "outputId": "f777c5e7-0fef-409f-d915-5fabbebb6977",
        "colab": {
          "base_uri": "https://localhost:8080/",
          "height": 34
        }
      },
      "source": [
        "cities[2]\n",
        "##Practice Problem: get the 3rd city in list of cities"
      ],
      "execution_count": 0,
      "outputs": [
        {
          "output_type": "execute_result",
          "data": {
            "text/plain": [
              "'New York'"
            ]
          },
          "metadata": {
            "tags": []
          },
          "execution_count": 16
        }
      ]
    },
    {
      "cell_type": "markdown",
      "metadata": {
        "id": "HnqBUgFITIgz",
        "colab_type": "text"
      },
      "source": [
        "**Dictionaries**"
      ]
    },
    {
      "cell_type": "code",
      "metadata": {
        "id": "m4Dt4hj0TMYs",
        "colab_type": "code",
        "colab": {}
      },
      "source": [
        "city_population = {\n",
        "    'Tokyo': 13350000, # a key-value pair\n",
        "    'Los Angeles': 18550000,\n",
        "    'New York City': 8400000,\n",
        "    'San Francisco': 1837442,\n",
        "}\n",
        "\n",
        "##Dictionaries are also what they sound like - a list of definitions that correspond to unique terms.\n",
        "##Dictionaries are unordered\n",
        "##Dictionary values are accessed by keys\n",
        "##Keys and values are to a dictionary what words and their definitions are \n",
        "##to an English dictionary. Each entry in a dictionary is called a key-value pair.\n",
        "##To create a dictionary, use curly braces."
      ],
      "execution_count": 0,
      "outputs": []
    },
    {
      "cell_type": "code",
      "metadata": {
        "id": "2fo2KqPWTigN",
        "colab_type": "code",
        "outputId": "3b27b148-6d9b-4840-d5d1-e4bca6fa7416",
        "colab": {
          "base_uri": "https://localhost:8080/",
          "height": 85
        }
      },
      "source": [
        "city_population \n",
        "##a different order than we defined when we created it - ordered alphabetically by key\n",
        "##Note that numbers do not have quotation marks around them."
      ],
      "execution_count": 0,
      "outputs": [
        {
          "output_type": "execute_result",
          "data": {
            "text/plain": [
              "{'Los Angeles': 18550000,\n",
              " 'New York City': 8400000,\n",
              " 'San Francisco': 1837442,\n",
              " 'Tokyo': 13350000}"
            ]
          },
          "metadata": {
            "tags": []
          },
          "execution_count": 18
        }
      ]
    },
    {
      "cell_type": "code",
      "metadata": {
        "id": "gCajlXskTtpD",
        "colab_type": "code",
        "outputId": "9e1464a9-fc34-498a-eb3e-006382406fbe",
        "colab": {
          "base_uri": "https://localhost:8080/",
          "height": 34
        }
      },
      "source": [
        "city_population['New York City']\n",
        "##if you want to know the population of New York, similarly to a list, you can use \n",
        "##brackets to access the value, but this time with the key (instead of the index)"
      ],
      "execution_count": 0,
      "outputs": [
        {
          "output_type": "execute_result",
          "data": {
            "text/plain": [
              "8400000"
            ]
          },
          "metadata": {
            "tags": []
          },
          "execution_count": 19
        }
      ]
    },
    {
      "cell_type": "code",
      "metadata": {
        "id": "xkmpyBY_T98G",
        "colab_type": "code",
        "outputId": "a331dc5d-4bff-4828-fc1a-f90ad8cab6df",
        "colab": {
          "base_uri": "https://localhost:8080/",
          "height": 34
        }
      },
      "source": [
        "city_population['Tokyo']\n",
        "##Practice Problem Get population of Tokyo"
      ],
      "execution_count": 0,
      "outputs": [
        {
          "output_type": "execute_result",
          "data": {
            "text/plain": [
              "13350000"
            ]
          },
          "metadata": {
            "tags": []
          },
          "execution_count": 20
        }
      ]
    },
    {
      "cell_type": "markdown",
      "metadata": {
        "id": "d3D19gwNUUMx",
        "colab_type": "text"
      },
      "source": [
        "**Changing values and combining objects**"
      ]
    },
    {
      "cell_type": "code",
      "metadata": {
        "id": "fEY8xztYUkET",
        "colab_type": "code",
        "outputId": "156e464d-a348-4eff-ed9c-ee4d06f58914",
        "colab": {
          "base_uri": "https://localhost:8080/",
          "height": 85
        }
      },
      "source": [
        "city_population['San Francisco'] = 837442\n",
        "city_population # change made!\n",
        "##Say you wanted to change the population numbers for San Francisco, because \n",
        "##it turns out 837,442 people live there, not 1,837,442 (Maybe San Francisco \n",
        "##actually belongs in a different dictionary called \"villages\").\n",
        "##You can name the index of the item you want to change, using = to set the \n",
        "##new population value"
      ],
      "execution_count": 0,
      "outputs": [
        {
          "output_type": "execute_result",
          "data": {
            "text/plain": [
              "{'Los Angeles': 18550000,\n",
              " 'New York City': 8400000,\n",
              " 'San Francisco': 837442,\n",
              " 'Tokyo': 13350000}"
            ]
          },
          "metadata": {
            "tags": []
          },
          "execution_count": 23
        }
      ]
    },
    {
      "cell_type": "code",
      "metadata": {
        "id": "Kt8zSBokVJ8I",
        "colab_type": "code",
        "outputId": "a0b36de5-ecfd-4021-85f4-e986196d1cc9",
        "colab": {
          "base_uri": "https://localhost:8080/",
          "height": 102
        }
      },
      "source": [
        "city_population['Mumbai'] = 11980000\n",
        "city_population\n",
        "##In dictionaries, keys are unique. This means that there can only be one \"San Francisco\" in \n",
        "##the city_population dictionary, just as there can only be one Supercalifragilisticexpialidocious \n",
        "##entry in the English dictionary.\n",
        "##Let's add another big city to the dictionary. To do this, you'll need to assign a \n",
        "##value to a key that doesn't yet exist"
      ],
      "execution_count": 0,
      "outputs": [
        {
          "output_type": "execute_result",
          "data": {
            "text/plain": [
              "{'Los Angeles': 18550000,\n",
              " 'Mumbai': 11980000,\n",
              " 'New York City': 8400000,\n",
              " 'San Francisco': 837442,\n",
              " 'Tokyo': 13350000}"
            ]
          },
          "metadata": {
            "tags": []
          },
          "execution_count": 24
        }
      ]
    },
    {
      "cell_type": "code",
      "metadata": {
        "id": "5ElrFcF5Vd0p",
        "colab_type": "code",
        "colab": {}
      },
      "source": [
        "municipalities = {\n",
        "    'New York City': [\n",
        "        'Manhattan',\n",
        "        'The Bronx',\n",
        "        'Brooklyn',\n",
        "        'Queens',\n",
        "        'Staten Island'\n",
        "    ],\n",
        "    'Tokyo': [\n",
        "        'Akihabara',\n",
        "        'Harajuku',\n",
        "        'Shimokitazawa',\n",
        "        'Nakameguro',\n",
        "        'Shibuya',\n",
        "        'Ebisu/Daikanyama',\n",
        "        'Shibuya District',\n",
        "        'Aoyama',\n",
        "        'Asakusa/Ueno',\n",
        "        'Bunkyo District',\n",
        "        'Ginza',\n",
        "        'Ikebukuro',\n",
        "        'Koto District',\n",
        "        'Meguro District',\n",
        "        'Minato District',\n",
        "        'Roppongi',\n",
        "        'Shinagawa District',\n",
        "        'Shinjuku',\n",
        "        'Shinjuku District',\n",
        "        'Sumida District',\n",
        "        'Tsukiji',\n",
        "        'Tsukishima']\n",
        "}\n",
        "\n",
        "##Python is very friendly to combining objects, such as creating a dictionary of lists. For example, if you wanted to list the municipalities of two cities, you could create this dictionary:\n",
        "##municipalities dictionary (inside {}):\n",
        "##key: string of city name (inside '')\n",
        "##value: list of municipalities (inside [])\n",
        "##list items: strings, each a single municipality (inside '')"
      ],
      "execution_count": 0,
      "outputs": []
    },
    {
      "cell_type": "code",
      "metadata": {
        "id": "DvLiGbaKWDEn",
        "colab_type": "code",
        "outputId": "839839d4-8906-4619-fbca-612ef21550dd",
        "colab": {
          "base_uri": "https://localhost:8080/",
          "height": 391
        }
      },
      "source": [
        "municipalities['Tokyo']\n",
        "##retrieving municipalities in Tokyo to better understand how structure works"
      ],
      "execution_count": 0,
      "outputs": [
        {
          "output_type": "execute_result",
          "data": {
            "text/plain": [
              "['Akihabara',\n",
              " 'Harajuku',\n",
              " 'Shimokitazawa',\n",
              " 'Nakameguro',\n",
              " 'Shibuya',\n",
              " 'Ebisu/Daikanyama',\n",
              " 'Shibuya District',\n",
              " 'Aoyama',\n",
              " 'Asakusa/Ueno',\n",
              " 'Bunkyo District',\n",
              " 'Ginza',\n",
              " 'Ikebukuro',\n",
              " 'Koto District',\n",
              " 'Meguro District',\n",
              " 'Minato District',\n",
              " 'Roppongi',\n",
              " 'Shinagawa District',\n",
              " 'Shinjuku',\n",
              " 'Shinjuku District',\n",
              " 'Sumida District',\n",
              " 'Tsukiji',\n",
              " 'Tsukishima']"
            ]
          },
          "metadata": {
            "tags": []
          },
          "execution_count": 26
        }
      ]
    },
    {
      "cell_type": "code",
      "metadata": {
        "id": "N7ZAtoKrWQ--",
        "colab_type": "code",
        "outputId": "9908ba3d-c51f-4f57-83e0-01a34de24b2d",
        "colab": {
          "base_uri": "https://localhost:8080/",
          "height": 34
        }
      },
      "source": [
        "municipalities['Tokyo'][3]\n",
        "##to get a single municipality, you would enter the dictionary variable name and \n",
        "##the list index. If you wanted to show Tokyo’s Nakameguro municipality (which is the \n",
        "##fourth value in the list), you would write the following (remember that python is zero-indexed)"
      ],
      "execution_count": 0,
      "outputs": [
        {
          "output_type": "execute_result",
          "data": {
            "text/plain": [
              "'Nakameguro'"
            ]
          },
          "metadata": {
            "tags": []
          },
          "execution_count": 27
        }
      ]
    },
    {
      "cell_type": "code",
      "metadata": {
        "id": "n5gEGgCUWi_L",
        "colab_type": "code",
        "outputId": "daf81329-29e9-46aa-9680-f61af8344cf3",
        "colab": {
          "base_uri": "https://localhost:8080/",
          "height": 34
        }
      },
      "source": [
        "municipalities['New York City'][3]\n",
        "##Practice Problem: What is the fourth listed municipality (okay, borough) in New York City?\n"
      ],
      "execution_count": 0,
      "outputs": [
        {
          "output_type": "execute_result",
          "data": {
            "text/plain": [
              "'Queens'"
            ]
          },
          "metadata": {
            "tags": []
          },
          "execution_count": 28
        }
      ]
    },
    {
      "cell_type": "code",
      "metadata": {
        "id": "m1fEE0pdWrrc",
        "colab_type": "code",
        "outputId": "981b7edc-86dc-423c-d265-a02aa77528dd",
        "colab": {
          "base_uri": "https://localhost:8080/",
          "height": 34
        }
      },
      "source": [
        "type(True)\n",
        "##Just as some values are stored as the string data type, some values can be stored as\n",
        "##the boolean data type. More specifically, booleans have two possible values: True or False. \n",
        "##This will come in handy when filtering data in later lessons.\n",
        "##type() can be used to check the data type (string, boolean, etc.—you will learn more of these later) \n",
        "##of an object. Let's check the object type of the value True\n"
      ],
      "execution_count": 0,
      "outputs": [
        {
          "output_type": "execute_result",
          "data": {
            "text/plain": [
              "bool"
            ]
          },
          "metadata": {
            "tags": []
          },
          "execution_count": 29
        }
      ]
    },
    {
      "cell_type": "code",
      "metadata": {
        "id": "SuSaUL1PXFqZ",
        "colab_type": "code",
        "outputId": "a333fd1c-44a7-438c-cbde-ea918d888f11",
        "colab": {
          "base_uri": "https://localhost:8080/",
          "height": 34
        }
      },
      "source": [
        "type(municipalities['Tokyo'])\n",
        "##As a point of comparison, you can see that the set of municipalities of Tokyo in the above example is stored as a list"
      ],
      "execution_count": 0,
      "outputs": [
        {
          "output_type": "execute_result",
          "data": {
            "text/plain": [
              "list"
            ]
          },
          "metadata": {
            "tags": []
          },
          "execution_count": 30
        }
      ]
    },
    {
      "cell_type": "code",
      "metadata": {
        "id": "aGsZT0nAXSRk",
        "colab_type": "code",
        "outputId": "560c20c4-4a35-475b-893e-bebf0b58707e",
        "colab": {
          "base_uri": "https://localhost:8080/",
          "height": 34
        }
      },
      "source": [
        "city_population['Tokyo'] == 13350000\n",
        "##Until now, you've been using the equal sign to set values. But it is also used in Python to compare equality. \n",
        "##The double equals sign \"==\" is used to check whether the values to the right and left are equal to one another.\n",
        "##For example, is the population of Tokyo equal to 13,350,000? You can use this statement to evaluate the equality (resulting in a boolean)"
      ],
      "execution_count": 0,
      "outputs": [
        {
          "output_type": "execute_result",
          "data": {
            "text/plain": [
              "True"
            ]
          },
          "metadata": {
            "tags": []
          },
          "execution_count": 31
        }
      ]
    },
    {
      "cell_type": "code",
      "metadata": {
        "id": "2jPOjZvqXheg",
        "colab_type": "code",
        "outputId": "f1ff7f16-f9ef-4bdb-abf1-d3cea1b16dba",
        "colab": {
          "base_uri": "https://localhost:8080/",
          "height": 34
        }
      },
      "source": [
        "city_population['Tokyo'] == 50000\n",
        "##two equal signs will test for equality, but one equal sign will assign a variable. \n",
        "##If you removed one of the equal signs, you would change the value of Tokyo's \n",
        "##population in the dictionary (just as you did above with San Francisco)!"
      ],
      "execution_count": 0,
      "outputs": [
        {
          "output_type": "execute_result",
          "data": {
            "text/plain": [
              "False"
            ]
          },
          "metadata": {
            "tags": []
          },
          "execution_count": 32
        }
      ]
    },
    {
      "cell_type": "markdown",
      "metadata": {
        "id": "9taYC_n2nvGg",
        "colab_type": "text"
      },
      "source": [
        "***II. Python Methods, Functions, & Libraries***"
      ]
    },
    {
      "cell_type": "markdown",
      "metadata": {
        "id": "Jpm4BvjUoB9X",
        "colab_type": "text"
      },
      "source": [
        "**Methods**"
      ]
    },
    {
      "cell_type": "code",
      "metadata": {
        "id": "vn5ompZkn3Jl",
        "colab_type": "code",
        "colab": {}
      },
      "source": [
        "city_population = {\n",
        "  'Tokyo': 13350000, # a key-value pair\n",
        "  'Los Angeles': 18550000,\n",
        "  'New York City': 8400000,\n",
        "  'San Francisco': 1837442,\n",
        "}"
      ],
      "execution_count": 0,
      "outputs": []
    },
    {
      "cell_type": "code",
      "metadata": {
        "id": "U1x6ohQ9oMJd",
        "colab_type": "code",
        "outputId": "de78a63f-1fb6-4b84-a11f-087f86374d68",
        "colab": {
          "base_uri": "https://localhost:8080/",
          "height": 34
        }
      },
      "source": [
        "city_population.keys()\n",
        "##Say you want to see all the keys in the dictionary (in this case, cities). You can use a method \n",
        "##called .keys() to get a list of the dictionary's keys. A method is an action that you can take \n",
        "##on an object. If a real-world window was an object, its methods might be .open() or .close().\n",
        "##In this case, the object is the dictionary, and the action is to return the .keys()"
      ],
      "execution_count": 0,
      "outputs": [
        {
          "output_type": "execute_result",
          "data": {
            "text/plain": [
              "dict_keys(['Tokyo', 'Los Angeles', 'New York City', 'San Francisco'])"
            ]
          },
          "metadata": {
            "tags": []
          },
          "execution_count": 8
        }
      ]
    },
    {
      "cell_type": "code",
      "metadata": {
        "id": "ochigrskoxDZ",
        "colab_type": "code",
        "outputId": "477a048c-c446-4f65-b53a-4e459dbc3788",
        "colab": {
          "base_uri": "https://localhost:8080/",
          "height": 54
        }
      },
      "source": [
        "print(city_population)"
      ],
      "execution_count": 0,
      "outputs": [
        {
          "output_type": "stream",
          "text": [
            "{'Tokyo': 13350000, 'Los Angeles': 18550000, 'New York City': 8400000, 'San Francisco': 1837442}\n"
          ],
          "name": "stdout"
        }
      ]
    },
    {
      "cell_type": "code",
      "metadata": {
        "id": "ve-AvZ9YoiIi",
        "colab_type": "code",
        "outputId": "3a61a017-f9b1-4c3f-d6b3-b490bdfa872a",
        "colab": {
          "base_uri": "https://localhost:8080/",
          "height": 34
        }
      },
      "source": [
        "type(city_population.keys())\n",
        "##Remember how everything in Python is an object? That output is a list object! \n",
        "##You can double-check this using type()"
      ],
      "execution_count": 0,
      "outputs": [
        {
          "output_type": "execute_result",
          "data": {
            "text/plain": [
              "dict_keys"
            ]
          },
          "metadata": {
            "tags": []
          },
          "execution_count": 10
        }
      ]
    },
    {
      "cell_type": "code",
      "metadata": {
        "id": "ys0UstyFq8Xf",
        "colab_type": "code",
        "outputId": "fa4fdabe-c412-4ec4-f7d9-1d22c9da5a84",
        "colab": {
          "base_uri": "https://localhost:8080/",
          "height": 164
        }
      },
      "source": [
        "city_population.keys()[2]\n"
      ],
      "execution_count": 0,
      "outputs": [
        {
          "output_type": "error",
          "ename": "TypeError",
          "evalue": "ignored",
          "traceback": [
            "\u001b[0;31m---------------------------------------------------------------------------\u001b[0m",
            "\u001b[0;31mTypeError\u001b[0m                                 Traceback (most recent call last)",
            "\u001b[0;32m<ipython-input-11-41b62dee72bb>\u001b[0m in \u001b[0;36m<module>\u001b[0;34m()\u001b[0m\n\u001b[0;32m----> 1\u001b[0;31m \u001b[0mcity_population\u001b[0m\u001b[0;34m.\u001b[0m\u001b[0mkeys\u001b[0m\u001b[0;34m(\u001b[0m\u001b[0;34m)\u001b[0m\u001b[0;34m[\u001b[0m\u001b[0;36m2\u001b[0m\u001b[0;34m]\u001b[0m\u001b[0;34m\u001b[0m\u001b[0;34m\u001b[0m\u001b[0m\n\u001b[0m",
            "\u001b[0;31mTypeError\u001b[0m: 'dict_keys' object does not support indexing"
          ]
        }
      ]
    },
    {
      "cell_type": "code",
      "metadata": {
        "id": "ETOZqVjXo-W9",
        "colab_type": "code",
        "outputId": "f915ad5e-801c-48c2-eae0-12804e643a5c",
        "colab": {
          "base_uri": "https://localhost:8080/",
          "height": 34
        }
      },
      "source": [
        "list(city_population.keys())[2]\n",
        "##you can get the third item in the list of keys by referencing its index"
      ],
      "execution_count": 0,
      "outputs": [
        {
          "output_type": "execute_result",
          "data": {
            "text/plain": [
              "'New York City'"
            ]
          },
          "metadata": {
            "tags": []
          },
          "execution_count": 13
        }
      ]
    },
    {
      "cell_type": "code",
      "metadata": {
        "id": "GZutEBFuqsA0",
        "colab_type": "code",
        "outputId": "b46abb70-3d69-4fbf-d452-1a10748e8c9b",
        "colab": {
          "base_uri": "https://localhost:8080/",
          "height": 34
        }
      },
      "source": [
        "city_population.values()"
      ],
      "execution_count": 0,
      "outputs": [
        {
          "output_type": "execute_result",
          "data": {
            "text/plain": [
              "dict_values([13350000, 18550000, 8400000, 1837442])"
            ]
          },
          "metadata": {
            "tags": []
          },
          "execution_count": 52
        }
      ]
    },
    {
      "cell_type": "code",
      "metadata": {
        "id": "bDRwJEtWrVVV",
        "colab_type": "code",
        "outputId": "4f9864c6-766f-4cc3-a9ab-bde932fd97b1",
        "colab": {
          "base_uri": "https://localhost:8080/",
          "height": 34
        }
      },
      "source": [
        "city_population['Los Angeles']\n",
        "##get the population of Los Angeles"
      ],
      "execution_count": 0,
      "outputs": [
        {
          "output_type": "execute_result",
          "data": {
            "text/plain": [
              "18550000"
            ]
          },
          "metadata": {
            "tags": []
          },
          "execution_count": 54
        }
      ]
    },
    {
      "cell_type": "code",
      "metadata": {
        "id": "YCtGFls4rxsC",
        "colab_type": "code",
        "colab": {}
      },
      "source": [
        "municipalities = {\n",
        "    'New York City': [\n",
        "        'Manhattan',\n",
        "        'The Bronx',\n",
        "        'Brooklyn',\n",
        "        'Queens',\n",
        "        'Staten Island'\n",
        "    ],\n",
        "    'Tokyo': [\n",
        "        'Akihabara',\n",
        "        'Harajuku',\n",
        "        'Shimokitazawa',\n",
        "        'Nakameguro',\n",
        "        'Shibuya',\n",
        "        'Ebisu/Daikanyama',\n",
        "        'Shibuya District',\n",
        "        'Aoyama',\n",
        "        'Asakusa/Ueno',\n",
        "        'Bunkyo District',\n",
        "        'Ginza',\n",
        "        'Ikebukuro',\n",
        "        'Koto District',\n",
        "        'Meguro District',\n",
        "        'Minato District',\n",
        "        'Roppongi',\n",
        "        'Shinagawa District',\n",
        "        'Shinjuku',\n",
        "        'Shinjuku District',\n",
        "        'Sumida District',\n",
        "        'Tsukiji',\n",
        "        'Tsukishima']\n",
        "}\n",
        "\n",
        "##You can use methods on combined objects as well. In the last lesson, you created a dictionary of lists \n",
        "##by nesting individual lists of cities and their municipalities in a dictionary object. "
      ],
      "execution_count": 0,
      "outputs": []
    },
    {
      "cell_type": "code",
      "metadata": {
        "id": "lngJ_5Vpsud-",
        "colab_type": "code",
        "outputId": "502daaec-7f97-4525-eec3-b7f1e9184fe6",
        "colab": {
          "base_uri": "https://localhost:8080/",
          "height": 34
        }
      },
      "source": [
        "municipalities['Tokyo'][3]\n",
        "##As a reminder, to get a single municipality, you would enter \n",
        "##the dictionary’s variable name—municipalities—and the list index"
      ],
      "execution_count": 0,
      "outputs": [
        {
          "output_type": "execute_result",
          "data": {
            "text/plain": [
              "'Nakameguro'"
            ]
          },
          "metadata": {
            "tags": []
          },
          "execution_count": 14
        }
      ]
    },
    {
      "cell_type": "code",
      "metadata": {
        "id": "0Ssn07hRtVF0",
        "colab_type": "code",
        "outputId": "d8e73a87-0bf9-4352-c77d-37a61a8bc4bb",
        "colab": {
          "base_uri": "https://localhost:8080/",
          "height": 34
        }
      },
      "source": [
        "municipalities.keys()\n",
        "##he keys of the dictionary"
      ],
      "execution_count": 0,
      "outputs": [
        {
          "output_type": "execute_result",
          "data": {
            "text/plain": [
              "dict_keys(['New York City', 'Tokyo'])"
            ]
          },
          "metadata": {
            "tags": []
          },
          "execution_count": 15
        }
      ]
    },
    {
      "cell_type": "code",
      "metadata": {
        "id": "uMKiN4cctokB",
        "colab_type": "code",
        "outputId": "292d07bc-d582-4197-ac43-a7a6ede38a54",
        "colab": {
          "base_uri": "https://localhost:8080/",
          "height": 54
        }
      },
      "source": [
        "municipalities.values()\n",
        "##values associated with the keys in that dictionary \n",
        "##Remember that lists are denoted with square brackets? Notice that there are three sets of [] in the output.\n",
        "##That’s because the .values() output is a list containing New York’s municipalities and Tokyo’s municipalities, \n",
        "##both of which are lists, as well.In other words, municipalities.values() is a list containing two lists"
      ],
      "execution_count": 0,
      "outputs": [
        {
          "output_type": "execute_result",
          "data": {
            "text/plain": [
              "dict_values([['Manhattan', 'The Bronx', 'Brooklyn', 'Queens', 'Staten Island'], ['Akihabara', 'Harajuku', 'Shimokitazawa', 'Nakameguro', 'Shibuya', 'Ebisu/Daikanyama', 'Shibuya District', 'Aoyama', 'Asakusa/Ueno', 'Bunkyo District', 'Ginza', 'Ikebukuro', 'Koto District', 'Meguro District', 'Minato District', 'Roppongi', 'Shinagawa District', 'Shinjuku', 'Shinjuku District', 'Sumida District', 'Tsukiji', 'Tsukishima']])"
            ]
          },
          "metadata": {
            "tags": []
          },
          "execution_count": 16
        }
      ]
    },
    {
      "cell_type": "code",
      "metadata": {
        "id": "53-bg_u5wJSn",
        "colab_type": "code",
        "outputId": "61bc5268-59d7-4712-c34e-1f9ecf31b707",
        "colab": {
          "base_uri": "https://localhost:8080/",
          "height": 68
        }
      },
      "source": [
        "print (type(municipalities))\n",
        "print (type(municipalities['Tokyo']))\n",
        "print (type(municipalities['Tokyo'][0]))\n",
        "\n",
        "##functions. They're very similar to methods in that they perform an action, but unlike methods, \n",
        "##functions are not tied to specific objects. \n",
        "##You've already used a function—type()—several times in this tutorial. It can be used on any object. \n",
        "##Try it out here using different items within the municipalities object\n",
        "\n",
        "##In the output above, 'dict' stands for dictionary, 'list' stands for list, and 'str' stands \n",
        "##for string. In other words, municipalities is a dictionary, municipalities['Tokyo'] is a list,\n",
        "##and municipalities['Tokyo'][0] is a string."
      ],
      "execution_count": 0,
      "outputs": [
        {
          "output_type": "stream",
          "text": [
            "<class 'dict'>\n",
            "<class 'list'>\n",
            "<class 'str'>\n"
          ],
          "name": "stdout"
        }
      ]
    },
    {
      "cell_type": "code",
      "metadata": {
        "id": "j6peFMflyqlb",
        "colab_type": "code",
        "outputId": "db2507b1-6623-47d2-c169-2808d7d68ef9",
        "colab": {
          "base_uri": "https://localhost:8080/",
          "height": 34
        }
      },
      "source": [
        "type(municipalities)\n",
        "type(municipalities['Tokyo'])\n",
        "type(municipalities['Tokyo'][0])\n",
        "\n",
        "##You may have noticed that we used the print function for every line of code \n",
        "##(yes, print is a function! It can also be written as print(\"object\")). \n",
        "##If you want more than one line to print output, you need to insert print at the beginning \n",
        "##of each line. This is because, by default, Python will only print the output associated \n",
        "##with your last line of code in the cell. You can see this in action by removing the print \n",
        "##part of the statements above"
      ],
      "execution_count": 0,
      "outputs": [
        {
          "output_type": "execute_result",
          "data": {
            "text/plain": [
              "str"
            ]
          },
          "metadata": {
            "tags": []
          },
          "execution_count": 29
        }
      ]
    },
    {
      "cell_type": "code",
      "metadata": {
        "id": "I7VbpV2wzIie",
        "colab_type": "code",
        "outputId": "3076308a-008d-4c79-b476-3efad7a159b3",
        "colab": {
          "base_uri": "https://localhost:8080/",
          "height": 198
        }
      },
      "source": [
        "print (type(city_population['New York City'][0]))\n",
        "\n",
        "##What type are the values of city_population?"
      ],
      "execution_count": 0,
      "outputs": [
        {
          "output_type": "error",
          "ename": "TypeError",
          "evalue": "ignored",
          "traceback": [
            "\u001b[0;31m---------------------------------------------------------------------------\u001b[0m",
            "\u001b[0;31mTypeError\u001b[0m                                 Traceback (most recent call last)",
            "\u001b[0;32m<ipython-input-38-d46f0eab5120>\u001b[0m in \u001b[0;36m<module>\u001b[0;34m()\u001b[0m\n\u001b[0;32m----> 1\u001b[0;31m \u001b[0mprint\u001b[0m \u001b[0;34m(\u001b[0m\u001b[0mtype\u001b[0m\u001b[0;34m(\u001b[0m\u001b[0mcity_population\u001b[0m\u001b[0;34m[\u001b[0m\u001b[0;34m'New York City'\u001b[0m\u001b[0;34m]\u001b[0m\u001b[0;34m[\u001b[0m\u001b[0;36m0\u001b[0m\u001b[0;34m]\u001b[0m\u001b[0;34m)\u001b[0m\u001b[0;34m)\u001b[0m\u001b[0;34m\u001b[0m\u001b[0;34m\u001b[0m\u001b[0m\n\u001b[0m\u001b[1;32m      2\u001b[0m \u001b[0;34m\u001b[0m\u001b[0m\n\u001b[1;32m      3\u001b[0m \u001b[0;31m##What type are the values of city_population?\u001b[0m\u001b[0;34m\u001b[0m\u001b[0;34m\u001b[0m\u001b[0;34m\u001b[0m\u001b[0m\n",
            "\u001b[0;31mTypeError\u001b[0m: 'int' object is not subscriptable"
          ]
        }
      ]
    },
    {
      "cell_type": "code",
      "metadata": {
        "id": "30_-7xKQ0Lu_",
        "colab_type": "code",
        "outputId": "699d24c8-660a-4e6f-e58d-0ae85c3d55f4",
        "colab": {
          "base_uri": "https://localhost:8080/",
          "height": 164
        }
      },
      "source": [
        "type(city_population.values()[0])\n"
      ],
      "execution_count": 0,
      "outputs": [
        {
          "output_type": "error",
          "ename": "TypeError",
          "evalue": "ignored",
          "traceback": [
            "\u001b[0;31m---------------------------------------------------------------------------\u001b[0m",
            "\u001b[0;31mTypeError\u001b[0m                                 Traceback (most recent call last)",
            "\u001b[0;32m<ipython-input-40-bd28af11ef20>\u001b[0m in \u001b[0;36m<module>\u001b[0;34m()\u001b[0m\n\u001b[0;32m----> 1\u001b[0;31m \u001b[0mtype\u001b[0m\u001b[0;34m(\u001b[0m\u001b[0mcity_population\u001b[0m\u001b[0;34m.\u001b[0m\u001b[0mvalues\u001b[0m\u001b[0;34m(\u001b[0m\u001b[0;34m)\u001b[0m\u001b[0;34m[\u001b[0m\u001b[0;36m0\u001b[0m\u001b[0;34m]\u001b[0m\u001b[0;34m)\u001b[0m\u001b[0;34m\u001b[0m\u001b[0;34m\u001b[0m\u001b[0m\n\u001b[0m",
            "\u001b[0;31mTypeError\u001b[0m: 'dict_values' object does not support indexing"
          ]
        }
      ]
    },
    {
      "cell_type": "code",
      "metadata": {
        "id": "RPmUKwtp0qZp",
        "colab_type": "code",
        "outputId": "41378ac5-82d0-4002-b8aa-7d626eb04103",
        "colab": {
          "base_uri": "https://localhost:8080/",
          "height": 34
        }
      },
      "source": [
        "city_population.values()\n",
        "city_population.values()[0]\n",
        "type(city_population.values()[0])\n",
        "##You should also take a minute to understand how Python is evaluating the second answer. \n",
        "##Everything is executed from the inside out, similar to the order of operations in math \n",
        "##(remember PEMDAS?). Here's the order in which Python runs the above line of code:\n"
      ],
      "execution_count": 0,
      "outputs": [
        {
          "output_type": "execute_result",
          "data": {
            "text/plain": [
              "dict_values([13350000, 18550000, 8400000, 1837442])"
            ]
          },
          "metadata": {
            "tags": []
          },
          "execution_count": 43
        }
      ]
    },
    {
      "cell_type": "code",
      "metadata": {
        "id": "1z6L8eXq02wl",
        "colab_type": "code",
        "outputId": "34d68f68-3d38-453f-de23-6a8e85ddb161",
        "colab": {
          "base_uri": "https://localhost:8080/",
          "height": 34
        }
      },
      "source": [
        "len(municipalities['Tokyo'])\n",
        "##It looks like Tokyo has a large number of administrative districts. How many exactly?\n",
        "##The len() function will describe how long an object is"
      ],
      "execution_count": 0,
      "outputs": [
        {
          "output_type": "execute_result",
          "data": {
            "text/plain": [
              "22"
            ]
          },
          "metadata": {
            "tags": []
          },
          "execution_count": 46
        }
      ]
    },
    {
      "cell_type": "code",
      "metadata": {
        "id": "fIs6O6g005Kr",
        "colab_type": "code",
        "outputId": "0063e9c3-3bf5-4485-92b8-1e7a0200dfba",
        "colab": {
          "base_uri": "https://localhost:8080/",
          "height": 51
        }
      },
      "source": [
        "print (municipalities['Tokyo'][2])\n",
        "len(municipalities['Tokyo'][2])\n",
        "##len() returns something different depending on the type of object for which you're getting \n",
        "##the length. For a list, it returns the number of items in the list, as demonstrated above.\n",
        "##For a string, len() returns the number of characters in the string (including spaces)"
      ],
      "execution_count": 0,
      "outputs": [
        {
          "output_type": "stream",
          "text": [
            "Shimokitazawa\n"
          ],
          "name": "stdout"
        },
        {
          "output_type": "execute_result",
          "data": {
            "text/plain": [
              "13"
            ]
          },
          "metadata": {
            "tags": []
          },
          "execution_count": 48
        }
      ]
    },
    {
      "cell_type": "code",
      "metadata": {
        "id": "Gx621_Ng2oLU",
        "colab_type": "code",
        "outputId": "ee02a69e-e953-4946-818a-0d271e2f3912",
        "colab": {
          "base_uri": "https://localhost:8080/",
          "height": 34
        }
      },
      "source": [
        "len(municipalities)\n",
        "##What is the \"length\" of municipalities? What does that mean?\n",
        "##The \"length\" of the dictionary is the number of key-value pairs \n",
        "##that are stored in the dictionary. In this case, the length is 2"
      ],
      "execution_count": 0,
      "outputs": [
        {
          "output_type": "execute_result",
          "data": {
            "text/plain": [
              "2"
            ]
          },
          "metadata": {
            "tags": []
          },
          "execution_count": 49
        }
      ]
    },
    {
      "cell_type": "markdown",
      "metadata": {
        "id": "NakBiI3a461p",
        "colab_type": "text"
      },
      "source": [
        "***Libraries***"
      ]
    },
    {
      "cell_type": "markdown",
      "metadata": {
        "id": "15X8p9g75M7O",
        "colab_type": "text"
      },
      "source": [
        "**A library is a bundle of code made to help you accomplish routine tasks more quickly. Seaborn, for example, allows you to create visualizations with as little as one line of code. Without such a library, you'd have to write a ton of code to take an object and render a chart. Python is a popular language for data analysis in part because it has extremely robust libraries for data manipulation, visualization, machine learning, and a host of other applications.\n",
        "\n",
        "Libraries are usually maintained by groups of contributors and made available online to anyone who wants to use them. This kind of collaboratively maintained software is often referred to as open source.\n",
        "\n",
        "You need to import a library in order to access the things in it (like its objects and methods). To import a library, you usually have to download the code to the computer where Python is running, and then import it. ** "
      ]
    },
    {
      "cell_type": "code",
      "metadata": {
        "id": "GRVSb1-U49MK",
        "colab_type": "code",
        "colab": {}
      },
      "source": [
        "import numpy as np # name of the library"
      ],
      "execution_count": 0,
      "outputs": []
    },
    {
      "cell_type": "code",
      "metadata": {
        "id": "SwUke03a5ZWQ",
        "colab_type": "code",
        "outputId": "6e183b00-68cc-4803-a07e-11ae496342e3",
        "colab": {
          "base_uri": "https://localhost:8080/",
          "height": 34
        }
      },
      "source": [
        "population_values = list(city_population.values())\n",
        "population_values\n",
        "\n",
        "##Now that you have the list of values, you can take their mean (also known as the average) \n",
        "##using a method called .mean() from the NumPy library. First, you’ll assign the list of \n",
        "##population values—city_population.values()—a new variable name—population_values."
      ],
      "execution_count": 0,
      "outputs": [
        {
          "output_type": "execute_result",
          "data": {
            "text/plain": [
              "[13350000, 18550000, 8400000, 1837442]"
            ]
          },
          "metadata": {
            "tags": []
          },
          "execution_count": 62
        }
      ]
    },
    {
      "cell_type": "code",
      "metadata": {
        "id": "agRih0st5vOj",
        "colab_type": "code",
        "outputId": "a5957d13-945c-4f98-c7d4-c2631fbdea23",
        "colab": {
          "base_uri": "https://localhost:8080/",
          "height": 34
        }
      },
      "source": [
        "city_population.values()\n",
        "\n",
        "##As you can see, this produces the expected result—a perfect match \n",
        "##if we just run city_population.values() on its own\n",
        "\n",
        "##It's good practice to create variables that refer to objects you'll need later. \n",
        "##Naming things will help you keep track of your work and will make your code much \n",
        "##more readable to others."
      ],
      "execution_count": 0,
      "outputs": [
        {
          "output_type": "execute_result",
          "data": {
            "text/plain": [
              "dict_values([13350000, 18550000, 8400000, 1837442])"
            ]
          },
          "metadata": {
            "tags": []
          },
          "execution_count": 63
        }
      ]
    },
    {
      "cell_type": "code",
      "metadata": {
        "id": "H_ZYHzBh57j7",
        "colab_type": "code",
        "outputId": "7a57aac3-dbc4-41bd-90df-d35182d09100",
        "colab": {
          "base_uri": "https://localhost:8080/",
          "height": 34
        }
      },
      "source": [
        "print(np.mean(population_values))"
      ],
      "execution_count": 0,
      "outputs": [
        {
          "output_type": "stream",
          "text": [
            "10534360.5\n"
          ],
          "name": "stdout"
        }
      ]
    },
    {
      "cell_type": "markdown",
      "metadata": {
        "id": "MGwgf9ZC7RvG",
        "colab_type": "text"
      },
      "source": [
        "## ***III. Aggregation and Grouping***"
      ]
    },
    {
      "cell_type": "markdown",
      "metadata": {
        "id": "qcHrxq4b7rT_",
        "colab_type": "text"
      },
      "source": [
        "Aggregation is the process of turning the values of a dataset (or a subset of it) into one single value."
      ]
    },
    {
      "cell_type": "code",
      "metadata": {
        "id": "QtNDRNYU7RQQ",
        "colab_type": "code",
        "colab": {}
      },
      "source": [
        "import numpy as np\n",
        "import pandas as pd"
      ],
      "execution_count": 0,
      "outputs": []
    },
    {
      "cell_type": "code",
      "metadata": {
        "id": "gT5cxxr87851",
        "colab_type": "code",
        "colab": {}
      },
      "source": [
        "zoo = pd.read_csv('http://46.101.230.157/datacoding101/zoo.csv', delimiter = ',')"
      ],
      "execution_count": 0,
      "outputs": []
    },
    {
      "cell_type": "markdown",
      "metadata": {
        "id": "mADsXiX68oUB",
        "colab_type": "text"
      },
      "source": [
        "Okay, let’s do five things with this data:\n",
        "\n",
        "1.Let’s count the number of rows (the number of animals) in zoo!\n",
        "2.Let’s calculate the total water_need of the animals!\n",
        "3.Let’s find out which is the smallest water_need value!\n",
        "4.And then the greatest water_need value!\n",
        "5.And eventually the average water_need!"
      ]
    },
    {
      "cell_type": "code",
      "metadata": {
        "id": "2k9n8Dua83Uo",
        "colab_type": "code",
        "outputId": "1c49164d-53a4-4c66-e8c5-fc41b535edd8",
        "colab": {
          "base_uri": "https://localhost:8080/",
          "height": 85
        }
      },
      "source": [
        "zoo.count()\n",
        "##Counting the number of the animals is as easy as applying a count function on the zoo dataframe\n",
        "##Actually, the .count() function counts the number of values in each column. In the case of the zoo \n",
        "##dataset, there were 3 columns, and each of them had 22 values in it."
      ],
      "execution_count": 0,
      "outputs": [
        {
          "output_type": "execute_result",
          "data": {
            "text/plain": [
              "animal        22\n",
              "uniq_id       22\n",
              "water_need    22\n",
              "dtype: int64"
            ]
          },
          "metadata": {
            "tags": []
          },
          "execution_count": 79
        }
      ]
    },
    {
      "cell_type": "code",
      "metadata": {
        "id": "YAi91wrJ9jh7",
        "colab_type": "code",
        "outputId": "1909e9e4-4823-4559-f40d-2386815d8a32",
        "colab": {
          "base_uri": "https://localhost:8080/",
          "height": 51
        }
      },
      "source": [
        "zoo[['animal']].count()\n",
        "##If you want to make your output clearer, you can select the animal column first \n",
        "##by using one of the selection operators from the previous article"
      ],
      "execution_count": 0,
      "outputs": [
        {
          "output_type": "execute_result",
          "data": {
            "text/plain": [
              "animal    22\n",
              "dtype: int64"
            ]
          },
          "metadata": {
            "tags": []
          },
          "execution_count": 80
        }
      ]
    },
    {
      "cell_type": "code",
      "metadata": {
        "id": "U80DLjvC995t",
        "colab_type": "code",
        "outputId": "dae55f67-5caa-482a-fcac-bd215cd3d90c",
        "colab": {
          "base_uri": "https://localhost:8080/",
          "height": 34
        }
      },
      "source": [
        "zoo.animal.count()\n",
        "##Or in this particular case, the result could be even nicer if you use this syntax"
      ],
      "execution_count": 0,
      "outputs": [
        {
          "output_type": "execute_result",
          "data": {
            "text/plain": [
              "22"
            ]
          },
          "metadata": {
            "tags": []
          },
          "execution_count": 81
        }
      ]
    },
    {
      "cell_type": "code",
      "metadata": {
        "id": "wa9feq-7-HuZ",
        "colab_type": "code",
        "outputId": "8d09cd4b-e45f-4307-c9f2-6d2fc3161c37",
        "colab": {
          "base_uri": "https://localhost:8080/",
          "height": 34
        }
      },
      "source": [
        "zoo.water_need.sum()\n",
        "##you can easily sum the values in the water_need column "
      ],
      "execution_count": 0,
      "outputs": [
        {
          "output_type": "execute_result",
          "data": {
            "text/plain": [
              "7650"
            ]
          },
          "metadata": {
            "tags": []
          },
          "execution_count": 82
        }
      ]
    },
    {
      "cell_type": "code",
      "metadata": {
        "id": "eWoTPusZ-QNp",
        "colab_type": "code",
        "outputId": "8858f158-c5de-4e6f-b15c-a04afad28904",
        "colab": {
          "base_uri": "https://localhost:8080/",
          "height": 85
        }
      },
      "source": [
        "zoo.sum()\n",
        "##Note: I love how .sum() turns the words of the animal column into one string of animal names. \n",
        "##(By the way, it’s very much in line with the logic of Python.)"
      ],
      "execution_count": 0,
      "outputs": [
        {
          "output_type": "execute_result",
          "data": {
            "text/plain": [
              "animal        elephantelephantelephanttigertigertigertigerti...\n",
              "uniq_id                                                   22253\n",
              "water_need                                                 7650\n",
              "dtype: object"
            ]
          },
          "metadata": {
            "tags": []
          },
          "execution_count": 83
        }
      ]
    },
    {
      "cell_type": "code",
      "metadata": {
        "id": "_nP23gU5-of1",
        "colab_type": "code",
        "outputId": "555c80eb-103a-4fc4-c4b6-3e76e8bebca3",
        "colab": {
          "base_uri": "https://localhost:8080/",
          "height": 34
        }
      },
      "source": [
        "zoo.water_need.min()"
      ],
      "execution_count": 0,
      "outputs": [
        {
          "output_type": "execute_result",
          "data": {
            "text/plain": [
              "80"
            ]
          },
          "metadata": {
            "tags": []
          },
          "execution_count": 84
        }
      ]
    },
    {
      "cell_type": "code",
      "metadata": {
        "id": "zkCQ5pI4-tmU",
        "colab_type": "code",
        "outputId": "9837e492-4267-4990-e2b9-89160ca78f38",
        "colab": {
          "base_uri": "https://localhost:8080/",
          "height": 34
        }
      },
      "source": [
        "zoo.water_need.max()"
      ],
      "execution_count": 0,
      "outputs": [
        {
          "output_type": "execute_result",
          "data": {
            "text/plain": [
              "600"
            ]
          },
          "metadata": {
            "tags": []
          },
          "execution_count": 85
        }
      ]
    },
    {
      "cell_type": "code",
      "metadata": {
        "id": "UgWnSjCo-vW3",
        "colab_type": "code",
        "outputId": "22c18a4c-08e8-4fda-c9a7-2b63841300e7",
        "colab": {
          "base_uri": "https://localhost:8080/",
          "height": 34
        }
      },
      "source": [
        "zoo.water_need.mean()"
      ],
      "execution_count": 0,
      "outputs": [
        {
          "output_type": "execute_result",
          "data": {
            "text/plain": [
              "347.72727272727275"
            ]
          },
          "metadata": {
            "tags": []
          },
          "execution_count": 86
        }
      ]
    },
    {
      "cell_type": "code",
      "metadata": {
        "id": "iS2wvTyA-8mm",
        "colab_type": "code",
        "outputId": "191ebb2a-385f-45f5-a122-088a0ae00bf5",
        "colab": {
          "base_uri": "https://localhost:8080/",
          "height": 34
        }
      },
      "source": [
        "zoo.water_need.median()"
      ],
      "execution_count": 0,
      "outputs": [
        {
          "output_type": "execute_result",
          "data": {
            "text/plain": [
              "325.0"
            ]
          },
          "metadata": {
            "tags": []
          },
          "execution_count": 87
        }
      ]
    },
    {
      "cell_type": "code",
      "metadata": {
        "id": "A3TM-qVl_H1a",
        "colab_type": "code",
        "outputId": "354e094f-019d-4951-bc54-3b2bbc7d08b4",
        "colab": {
          "base_uri": "https://localhost:8080/",
          "height": 235
        }
      },
      "source": [
        "zoo.groupby('animal').mean()\n",
        "##it’s nice to know the mean water_need of all animals (we have just learned that it’s 347.72). \n",
        "##But very often it’s much more actionable to break this number down – let’s say – by animal types. \n",
        "##With that, we can compare the species to each other – or we can find outliers."
      ],
      "execution_count": 0,
      "outputs": [
        {
          "output_type": "execute_result",
          "data": {
            "text/html": [
              "<div>\n",
              "<style scoped>\n",
              "    .dataframe tbody tr th:only-of-type {\n",
              "        vertical-align: middle;\n",
              "    }\n",
              "\n",
              "    .dataframe tbody tr th {\n",
              "        vertical-align: top;\n",
              "    }\n",
              "\n",
              "    .dataframe thead th {\n",
              "        text-align: right;\n",
              "    }\n",
              "</style>\n",
              "<table border=\"1\" class=\"dataframe\">\n",
              "  <thead>\n",
              "    <tr style=\"text-align: right;\">\n",
              "      <th></th>\n",
              "      <th>uniq_id</th>\n",
              "      <th>water_need</th>\n",
              "    </tr>\n",
              "    <tr>\n",
              "      <th>animal</th>\n",
              "      <th></th>\n",
              "      <th></th>\n",
              "    </tr>\n",
              "  </thead>\n",
              "  <tbody>\n",
              "    <tr>\n",
              "      <th>elephant</th>\n",
              "      <td>1002.0</td>\n",
              "      <td>550.000000</td>\n",
              "    </tr>\n",
              "    <tr>\n",
              "      <th>kangaroo</th>\n",
              "      <td>1021.0</td>\n",
              "      <td>416.666667</td>\n",
              "    </tr>\n",
              "    <tr>\n",
              "      <th>lion</th>\n",
              "      <td>1017.5</td>\n",
              "      <td>477.500000</td>\n",
              "    </tr>\n",
              "    <tr>\n",
              "      <th>tiger</th>\n",
              "      <td>1006.0</td>\n",
              "      <td>310.000000</td>\n",
              "    </tr>\n",
              "    <tr>\n",
              "      <th>zebra</th>\n",
              "      <td>1012.0</td>\n",
              "      <td>184.285714</td>\n",
              "    </tr>\n",
              "  </tbody>\n",
              "</table>\n",
              "</div>"
            ],
            "text/plain": [
              "          uniq_id  water_need\n",
              "animal                       \n",
              "elephant   1002.0  550.000000\n",
              "kangaroo   1021.0  416.666667\n",
              "lion       1017.5  477.500000\n",
              "tiger      1006.0  310.000000\n",
              "zebra      1012.0  184.285714"
            ]
          },
          "metadata": {
            "tags": []
          },
          "execution_count": 89
        }
      ]
    },
    {
      "cell_type": "code",
      "metadata": {
        "id": "FrJLTkmr_oqb",
        "colab_type": "code",
        "outputId": "170e142a-2cc5-4d69-c7a7-0fe34084ac4a",
        "colab": {
          "base_uri": "https://localhost:8080/",
          "height": 235
        }
      },
      "source": [
        "zoo.groupby('animal').mean()[['water_need']] ##This returns a DataFrame object.\n",
        "\n",
        "##Just as before, pandas automatically runs the .mean() calculation for all remaining columns \n",
        "##(the animal column obviously disappeared, since that was the column we grouped by). You can \n",
        "##either ignore the uniq_id column, or you can remove it afterwards by using one of these syntaxes:"
      ],
      "execution_count": 0,
      "outputs": [
        {
          "output_type": "execute_result",
          "data": {
            "text/html": [
              "<div>\n",
              "<style scoped>\n",
              "    .dataframe tbody tr th:only-of-type {\n",
              "        vertical-align: middle;\n",
              "    }\n",
              "\n",
              "    .dataframe tbody tr th {\n",
              "        vertical-align: top;\n",
              "    }\n",
              "\n",
              "    .dataframe thead th {\n",
              "        text-align: right;\n",
              "    }\n",
              "</style>\n",
              "<table border=\"1\" class=\"dataframe\">\n",
              "  <thead>\n",
              "    <tr style=\"text-align: right;\">\n",
              "      <th></th>\n",
              "      <th>water_need</th>\n",
              "    </tr>\n",
              "    <tr>\n",
              "      <th>animal</th>\n",
              "      <th></th>\n",
              "    </tr>\n",
              "  </thead>\n",
              "  <tbody>\n",
              "    <tr>\n",
              "      <th>elephant</th>\n",
              "      <td>550.000000</td>\n",
              "    </tr>\n",
              "    <tr>\n",
              "      <th>kangaroo</th>\n",
              "      <td>416.666667</td>\n",
              "    </tr>\n",
              "    <tr>\n",
              "      <th>lion</th>\n",
              "      <td>477.500000</td>\n",
              "    </tr>\n",
              "    <tr>\n",
              "      <th>tiger</th>\n",
              "      <td>310.000000</td>\n",
              "    </tr>\n",
              "    <tr>\n",
              "      <th>zebra</th>\n",
              "      <td>184.285714</td>\n",
              "    </tr>\n",
              "  </tbody>\n",
              "</table>\n",
              "</div>"
            ],
            "text/plain": [
              "          water_need\n",
              "animal              \n",
              "elephant  550.000000\n",
              "kangaroo  416.666667\n",
              "lion      477.500000\n",
              "tiger     310.000000\n",
              "zebra     184.285714"
            ]
          },
          "metadata": {
            "tags": []
          },
          "execution_count": 94
        }
      ]
    },
    {
      "cell_type": "code",
      "metadata": {
        "id": "yCaiz57q_6tg",
        "colab_type": "code",
        "outputId": "2cb8ce52-a210-400b-ace9-858c72c2b512",
        "colab": {
          "base_uri": "https://localhost:8080/",
          "height": 136
        }
      },
      "source": [
        "zoo.groupby('animal').mean().water_need ##This returns a Series object.\n"
      ],
      "execution_count": 0,
      "outputs": [
        {
          "output_type": "execute_result",
          "data": {
            "text/plain": [
              "animal\n",
              "elephant    550.000000\n",
              "kangaroo    416.666667\n",
              "lion        477.500000\n",
              "tiger       310.000000\n",
              "zebra       184.285714\n",
              "Name: water_need, dtype: float64"
            ]
          },
          "metadata": {
            "tags": []
          },
          "execution_count": 95
        }
      ]
    }
  ]
}